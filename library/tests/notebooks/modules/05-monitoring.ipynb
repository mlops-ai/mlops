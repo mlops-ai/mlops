{
 "cells": [
  {
   "cell_type": "code",
   "execution_count": 1,
   "id": "12d1b792",
   "metadata": {
    "ExecuteTime": {
     "end_time": "2023-11-16T18:32:59.214694Z",
     "start_time": "2023-11-16T18:32:59.197060Z"
    }
   },
   "outputs": [],
   "source": [
    "# !pip uninstall mlops-ai"
   ]
  },
  {
   "cell_type": "code",
   "execution_count": 14,
   "id": "c6c96f8b",
   "metadata": {
    "ExecuteTime": {
     "end_time": "2023-11-29T20:15:53.098721400Z",
     "start_time": "2023-11-29T20:15:53.093711900Z"
    }
   },
   "outputs": [],
   "source": [
    "import sys, os\n",
    "sys.path.append('../..')\n",
    "\n",
    "from mlops.tracking import set_active_experiment, set_active_project, create_project, create_experiment\n",
    "from mlops.tracking import start_iteration\n",
    "from mlops.monitoring import get_model_by_name, send_prediction"
   ]
  },
  {
   "cell_type": "markdown",
   "id": "53fdc322",
   "metadata": {},
   "source": [
    "## Setup Iteration with target model for monitoring "
   ]
  },
  {
   "cell_type": "code",
   "execution_count": 15,
   "id": "37a83170",
   "metadata": {
    "ExecuteTime": {
     "end_time": "2023-11-29T20:15:54.400632300Z",
     "start_time": "2023-11-29T20:15:54.375825700Z"
    }
   },
   "outputs": [
    {
     "data": {
      "text/plain": "'Active project set to: 65679bfa6519d0821fadfa76'"
     },
     "execution_count": 15,
     "metadata": {},
     "output_type": "execute_result"
    }
   ],
   "source": [
    "project = create_project(\n",
    "    title=\"Project for monitoring\", \n",
    "    description=\"Showcase project for monitoring :)\",\n",
    "    status='in_progress'\n",
    ")\n",
    "set_active_project(project_id=project['_id'])"
   ]
  },
  {
   "cell_type": "code",
   "execution_count": 16,
   "id": "ed4f38e2",
   "metadata": {
    "ExecuteTime": {
     "end_time": "2023-11-29T20:16:07.868258900Z",
     "start_time": "2023-11-29T20:16:07.842912900Z"
    }
   },
   "outputs": [
    {
     "data": {
      "text/plain": "'Active experiment set to: 65679c076519d0821fadfa77'"
     },
     "execution_count": 16,
     "metadata": {},
     "output_type": "execute_result"
    }
   ],
   "source": [
    "experiment = create_experiment(\n",
    "    name=\"Iris modeling\",\n",
    "    description=\"Iris classification models\"\n",
    ")\n",
    "set_active_experiment(experiment_id=experiment['id'])"
   ]
  },
  {
   "cell_type": "code",
   "execution_count": 17,
   "id": "51bf9918",
   "metadata": {
    "ExecuteTime": {
     "end_time": "2023-11-29T20:16:09.788483300Z",
     "start_time": "2023-11-29T20:16:09.005502600Z"
    }
   },
   "outputs": [],
   "source": [
    "import pandas as pd \n",
    "import pickle\n",
    "from sklearn.preprocessing import LabelEncoder\n",
    "from sklearn.model_selection import train_test_split\n",
    "from sklearn.ensemble import RandomForestClassifier\n",
    "from sklearn.metrics import accuracy_score, precision_score, recall_score, f1_score\n",
    "\n",
    "url = 'https://raw.githubusercontent.com/TripathiAshutosh/dataset/main/iris.csv'\n",
    "df = pd.read_csv(filepath_or_buffer=url, sep=',')\n",
    "y = LabelEncoder().fit_transform(df['class'])\n",
    "X = df.drop(columns=['class'])\n",
    "X_train, X_test, y_train, y_test = train_test_split(X, y, test_size=0.5, stratify = y, random_state=42)\n",
    "\n",
    "parameters = {'n_estimators': 100, 'max_depth': 5}\n",
    "model = RandomForestClassifier(**parameters)\n",
    "model.fit(X_train, y_train)\n",
    "prediction = model.predict(X_test)\n",
    "metrics = {\n",
    "    'accuracy': round(accuracy_score(y_test, prediction), 3),\n",
    "    'precision': round(precision_score(y_test, prediction, average='macro'), 3),\n",
    "    'recall': round(recall_score(y_test, prediction, average='macro'), 3),\n",
    "    'f1': round(f1_score(y_test, prediction, average='macro'), 3)\n",
    "}\n",
    "\n",
    "filename='../test_files/rf_iris.pkl'\n",
    "with open(filename, \"wb\") as f:\n",
    "    pickle.dump(model, f)"
   ]
  },
  {
   "cell_type": "code",
   "execution_count": 18,
   "id": "a23eec31",
   "metadata": {
    "ExecuteTime": {
     "end_time": "2023-11-29T20:16:12.479331Z",
     "start_time": "2023-11-29T20:16:12.449688600Z"
    }
   },
   "outputs": [],
   "source": [
    "with start_iteration(iteration_name='RF model v1') as iteration:\n",
    "    iteration.log_parameters(parameters=parameters)\n",
    "    iteration.log_metrics(metrics=metrics)\n",
    "    iteration.log_path_to_model(path_to_model=os.path.abspath(filename))"
   ]
  },
  {
   "cell_type": "markdown",
   "id": "ca20e6a6",
   "metadata": {},
   "source": [
    "## Valid prediction"
   ]
  },
  {
   "cell_type": "code",
   "execution_count": 19,
   "id": "a568727c",
   "metadata": {
    "ExecuteTime": {
     "end_time": "2023-11-29T20:17:04.294721100Z",
     "start_time": "2023-11-29T20:17:04.280651200Z"
    }
   },
   "outputs": [
    {
     "data": {
      "text/plain": "     sepal-length  sepal-width  petal-length  petal-width\n21            5.1          3.7           1.5          0.4\n7             5.0          3.4           1.5          0.2\n35            5.0          3.2           1.2          0.2\n23            5.1          3.3           1.7          0.5\n132           6.4          2.8           5.6          2.2\n..            ...          ...           ...          ...\n53            5.5          2.3           4.0          1.3\n22            4.6          3.6           1.0          0.2\n102           7.1          3.0           5.9          2.1\n136           6.3          3.4           5.6          2.4\n138           6.0          3.0           4.8          1.8\n\n[75 rows x 4 columns]",
      "text/html": "<div>\n<style scoped>\n    .dataframe tbody tr th:only-of-type {\n        vertical-align: middle;\n    }\n\n    .dataframe tbody tr th {\n        vertical-align: top;\n    }\n\n    .dataframe thead th {\n        text-align: right;\n    }\n</style>\n<table border=\"1\" class=\"dataframe\">\n  <thead>\n    <tr style=\"text-align: right;\">\n      <th></th>\n      <th>sepal-length</th>\n      <th>sepal-width</th>\n      <th>petal-length</th>\n      <th>petal-width</th>\n    </tr>\n  </thead>\n  <tbody>\n    <tr>\n      <th>21</th>\n      <td>5.1</td>\n      <td>3.7</td>\n      <td>1.5</td>\n      <td>0.4</td>\n    </tr>\n    <tr>\n      <th>7</th>\n      <td>5.0</td>\n      <td>3.4</td>\n      <td>1.5</td>\n      <td>0.2</td>\n    </tr>\n    <tr>\n      <th>35</th>\n      <td>5.0</td>\n      <td>3.2</td>\n      <td>1.2</td>\n      <td>0.2</td>\n    </tr>\n    <tr>\n      <th>23</th>\n      <td>5.1</td>\n      <td>3.3</td>\n      <td>1.7</td>\n      <td>0.5</td>\n    </tr>\n    <tr>\n      <th>132</th>\n      <td>6.4</td>\n      <td>2.8</td>\n      <td>5.6</td>\n      <td>2.2</td>\n    </tr>\n    <tr>\n      <th>...</th>\n      <td>...</td>\n      <td>...</td>\n      <td>...</td>\n      <td>...</td>\n    </tr>\n    <tr>\n      <th>53</th>\n      <td>5.5</td>\n      <td>2.3</td>\n      <td>4.0</td>\n      <td>1.3</td>\n    </tr>\n    <tr>\n      <th>22</th>\n      <td>4.6</td>\n      <td>3.6</td>\n      <td>1.0</td>\n      <td>0.2</td>\n    </tr>\n    <tr>\n      <th>102</th>\n      <td>7.1</td>\n      <td>3.0</td>\n      <td>5.9</td>\n      <td>2.1</td>\n    </tr>\n    <tr>\n      <th>136</th>\n      <td>6.3</td>\n      <td>3.4</td>\n      <td>5.6</td>\n      <td>2.4</td>\n    </tr>\n    <tr>\n      <th>138</th>\n      <td>6.0</td>\n      <td>3.0</td>\n      <td>4.8</td>\n      <td>1.8</td>\n    </tr>\n  </tbody>\n</table>\n<p>75 rows × 4 columns</p>\n</div>"
     },
     "execution_count": 19,
     "metadata": {},
     "output_type": "execute_result"
    }
   ],
   "source": [
    "X_test"
   ]
  },
  {
   "cell_type": "code",
   "execution_count": 20,
   "id": "c0b48663",
   "metadata": {
    "ExecuteTime": {
     "end_time": "2023-11-29T20:18:05.553256300Z",
     "start_time": "2023-11-29T20:18:04.054198500Z"
    }
   },
   "outputs": [
    {
     "data": {
      "text/plain": "[{'id': '65679c7c6519d0821fadfa7a',\n  'prediction_date': '2023-11-29T21:18:04.686503',\n  'input_data': {'sepal-length': 5.1,\n   'sepal-width': 3.7,\n   'petal-length': 1.5,\n   'petal-width': 0.4},\n  'prediction': 0.0,\n  'actual': None},\n {'id': '65679c7c6519d0821fadfa7b',\n  'prediction_date': '2023-11-29T21:18:04.695538',\n  'input_data': {'sepal-length': 5.0,\n   'sepal-width': 3.4,\n   'petal-length': 1.5,\n   'petal-width': 0.2},\n  'prediction': 0.0,\n  'actual': None},\n {'id': '65679c7c6519d0821fadfa7c',\n  'prediction_date': '2023-11-29T21:18:04.703540',\n  'input_data': {'sepal-length': 5.0,\n   'sepal-width': 3.2,\n   'petal-length': 1.2,\n   'petal-width': 0.2},\n  'prediction': 0.0,\n  'actual': None},\n {'id': '65679c7c6519d0821fadfa7d',\n  'prediction_date': '2023-11-29T21:18:04.710538',\n  'input_data': {'sepal-length': 5.1,\n   'sepal-width': 3.3,\n   'petal-length': 1.7,\n   'petal-width': 0.5},\n  'prediction': 0.0,\n  'actual': None},\n {'id': '65679c7c6519d0821fadfa7e',\n  'prediction_date': '2023-11-29T21:18:04.723504',\n  'input_data': {'sepal-length': 6.4,\n   'sepal-width': 2.8,\n   'petal-length': 5.6,\n   'petal-width': 2.2},\n  'prediction': 2.0,\n  'actual': None},\n {'id': '65679c7c6519d0821fadfa7f',\n  'prediction_date': '2023-11-29T21:18:04.733539',\n  'input_data': {'sepal-length': 5.0,\n   'sepal-width': 3.5,\n   'petal-length': 1.3,\n   'petal-width': 0.3},\n  'prediction': 0.0,\n  'actual': None},\n {'id': '65679c7c6519d0821fadfa80',\n  'prediction_date': '2023-11-29T21:18:04.741536',\n  'input_data': {'sepal-length': 6.6,\n   'sepal-width': 3.0,\n   'petal-length': 4.4,\n   'petal-width': 1.4},\n  'prediction': 1.0,\n  'actual': None},\n {'id': '65679c7c6519d0821fadfa81',\n  'prediction_date': '2023-11-29T21:18:04.749539',\n  'input_data': {'sepal-length': 5.6,\n   'sepal-width': 2.8,\n   'petal-length': 4.9,\n   'petal-width': 2.0},\n  'prediction': 1.0,\n  'actual': None},\n {'id': '65679c7c6519d0821fadfa82',\n  'prediction_date': '2023-11-29T21:18:04.757511',\n  'input_data': {'sepal-length': 4.9,\n   'sepal-width': 2.4,\n   'petal-length': 3.3,\n   'petal-width': 1.0},\n  'prediction': 1.0,\n  'actual': None},\n {'id': '65679c7c6519d0821fadfa83',\n  'prediction_date': '2023-11-29T21:18:04.766533',\n  'input_data': {'sepal-length': 7.4,\n   'sepal-width': 2.8,\n   'petal-length': 6.1,\n   'petal-width': 1.9},\n  'prediction': 2.0,\n  'actual': None},\n {'id': '65679c7c6519d0821fadfa84',\n  'prediction_date': '2023-11-29T21:18:04.773534',\n  'input_data': {'sepal-length': 5.6,\n   'sepal-width': 2.5,\n   'petal-length': 3.9,\n   'petal-width': 1.1},\n  'prediction': 1.0,\n  'actual': None},\n {'id': '65679c7c6519d0821fadfa85',\n  'prediction_date': '2023-11-29T21:18:04.782533',\n  'input_data': {'sepal-length': 4.4,\n   'sepal-width': 3.2,\n   'petal-length': 1.3,\n   'petal-width': 0.2},\n  'prediction': 0.0,\n  'actual': None},\n {'id': '65679c7c6519d0821fadfa86',\n  'prediction_date': '2023-11-29T21:18:04.791539',\n  'input_data': {'sepal-length': 5.2,\n   'sepal-width': 2.7,\n   'petal-length': 3.9,\n   'petal-width': 1.4},\n  'prediction': 1.0,\n  'actual': None},\n {'id': '65679c7c6519d0821fadfa87',\n  'prediction_date': '2023-11-29T21:18:04.799535',\n  'input_data': {'sepal-length': 6.4,\n   'sepal-width': 3.2,\n   'petal-length': 4.5,\n   'petal-width': 1.5},\n  'prediction': 1.0,\n  'actual': None},\n {'id': '65679c7c6519d0821fadfa88',\n  'prediction_date': '2023-11-29T21:18:04.808542',\n  'input_data': {'sepal-length': 4.7,\n   'sepal-width': 3.2,\n   'petal-length': 1.6,\n   'petal-width': 0.2},\n  'prediction': 0.0,\n  'actual': None},\n {'id': '65679c7c6519d0821fadfa89',\n  'prediction_date': '2023-11-29T21:18:04.817543',\n  'input_data': {'sepal-length': 5.5,\n   'sepal-width': 4.2,\n   'petal-length': 1.4,\n   'petal-width': 0.2},\n  'prediction': 0.0,\n  'actual': None},\n {'id': '65679c7c6519d0821fadfa8a',\n  'prediction_date': '2023-11-29T21:18:04.826541',\n  'input_data': {'sepal-length': 5.5,\n   'sepal-width': 3.5,\n   'petal-length': 1.3,\n   'petal-width': 0.2},\n  'prediction': 0.0,\n  'actual': None},\n {'id': '65679c7c6519d0821fadfa8b',\n  'prediction_date': '2023-11-29T21:18:04.835542',\n  'input_data': {'sepal-length': 6.5,\n   'sepal-width': 3.0,\n   'petal-length': 5.2,\n   'petal-width': 2.0},\n  'prediction': 2.0,\n  'actual': None},\n {'id': '65679c7c6519d0821fadfa8c',\n  'prediction_date': '2023-11-29T21:18:04.844533',\n  'input_data': {'sepal-length': 6.3,\n   'sepal-width': 3.3,\n   'petal-length': 4.7,\n   'petal-width': 1.6},\n  'prediction': 1.0,\n  'actual': None},\n {'id': '65679c7c6519d0821fadfa8d',\n  'prediction_date': '2023-11-29T21:18:04.855506',\n  'input_data': {'sepal-length': 6.0,\n   'sepal-width': 2.9,\n   'petal-length': 4.5,\n   'petal-width': 1.5},\n  'prediction': 1.0,\n  'actual': None},\n {'id': '65679c7c6519d0821fadfa8e',\n  'prediction_date': '2023-11-29T21:18:04.865534',\n  'input_data': {'sepal-length': 6.1,\n   'sepal-width': 2.6,\n   'petal-length': 5.6,\n   'petal-width': 1.4},\n  'prediction': 1.0,\n  'actual': None},\n {'id': '65679c7c6519d0821fadfa8f',\n  'prediction_date': '2023-11-29T21:18:04.875541',\n  'input_data': {'sepal-length': 6.3,\n   'sepal-width': 2.8,\n   'petal-length': 5.1,\n   'petal-width': 1.5},\n  'prediction': 1.0,\n  'actual': None},\n {'id': '65679c7c6519d0821fadfa90',\n  'prediction_date': '2023-11-29T21:18:04.885541',\n  'input_data': {'sepal-length': 6.5,\n   'sepal-width': 3.0,\n   'petal-length': 5.8,\n   'petal-width': 2.2},\n  'prediction': 2.0,\n  'actual': None},\n {'id': '65679c7c6519d0821fadfa91',\n  'prediction_date': '2023-11-29T21:18:04.896503',\n  'input_data': {'sepal-length': 6.2,\n   'sepal-width': 2.9,\n   'petal-length': 4.3,\n   'petal-width': 1.3},\n  'prediction': 1.0,\n  'actual': None},\n {'id': '65679c7c6519d0821fadfa92',\n  'prediction_date': '2023-11-29T21:18:04.906540',\n  'input_data': {'sepal-length': 6.7,\n   'sepal-width': 3.3,\n   'petal-length': 5.7,\n   'petal-width': 2.5},\n  'prediction': 2.0,\n  'actual': None},\n {'id': '65679c7c6519d0821fadfa93',\n  'prediction_date': '2023-11-29T21:18:04.917541',\n  'input_data': {'sepal-length': 6.3,\n   'sepal-width': 2.7,\n   'petal-length': 4.9,\n   'petal-width': 1.8},\n  'prediction': 1.0,\n  'actual': None},\n {'id': '65679c7c6519d0821fadfa94',\n  'prediction_date': '2023-11-29T21:18:04.927543',\n  'input_data': {'sepal-length': 5.0,\n   'sepal-width': 2.3,\n   'petal-length': 3.3,\n   'petal-width': 1.0},\n  'prediction': 1.0,\n  'actual': None},\n {'id': '65679c7c6519d0821fadfa95',\n  'prediction_date': '2023-11-29T21:18:04.937533',\n  'input_data': {'sepal-length': 4.9,\n   'sepal-width': 3.0,\n   'petal-length': 1.4,\n   'petal-width': 0.2},\n  'prediction': 0.0,\n  'actual': None},\n {'id': '65679c7c6519d0821fadfa96',\n  'prediction_date': '2023-11-29T21:18:04.946540',\n  'input_data': {'sepal-length': 5.4,\n   'sepal-width': 3.0,\n   'petal-length': 4.5,\n   'petal-width': 1.5},\n  'prediction': 1.0,\n  'actual': None},\n {'id': '65679c7c6519d0821fadfa97',\n  'prediction_date': '2023-11-29T21:18:04.957506',\n  'input_data': {'sepal-length': 5.5,\n   'sepal-width': 2.6,\n   'petal-length': 4.4,\n   'petal-width': 1.2},\n  'prediction': 1.0,\n  'actual': None},\n {'id': '65679c7c6519d0821fadfa98',\n  'prediction_date': '2023-11-29T21:18:04.966534',\n  'input_data': {'sepal-length': 7.3,\n   'sepal-width': 2.9,\n   'petal-length': 6.3,\n   'petal-width': 1.8},\n  'prediction': 2.0,\n  'actual': None},\n {'id': '65679c7c6519d0821fadfa99',\n  'prediction_date': '2023-11-29T21:18:04.976540',\n  'input_data': {'sepal-length': 5.4,\n   'sepal-width': 3.9,\n   'petal-length': 1.7,\n   'petal-width': 0.4},\n  'prediction': 0.0,\n  'actual': None},\n {'id': '65679c7c6519d0821fadfa9a',\n  'prediction_date': '2023-11-29T21:18:04.986550',\n  'input_data': {'sepal-length': 5.0,\n   'sepal-width': 3.5,\n   'petal-length': 1.6,\n   'petal-width': 0.6},\n  'prediction': 0.0,\n  'actual': None},\n {'id': '65679c7c6519d0821fadfa9b',\n  'prediction_date': '2023-11-29T21:18:04.997546',\n  'input_data': {'sepal-length': 6.7,\n   'sepal-width': 3.0,\n   'petal-length': 5.0,\n   'petal-width': 1.7},\n  'prediction': 2.0,\n  'actual': None},\n {'id': '65679c7d6519d0821fadfa9c',\n  'prediction_date': '2023-11-29T21:18:05.010538',\n  'input_data': {'sepal-length': 5.1,\n   'sepal-width': 3.8,\n   'petal-length': 1.9,\n   'petal-width': 0.4},\n  'prediction': 0.0,\n  'actual': None},\n {'id': '65679c7d6519d0821fadfa9d',\n  'prediction_date': '2023-11-29T21:18:05.022533',\n  'input_data': {'sepal-length': 6.4,\n   'sepal-width': 2.7,\n   'petal-length': 5.3,\n   'petal-width': 1.9},\n  'prediction': 2.0,\n  'actual': None},\n {'id': '65679c7d6519d0821fadfa9e',\n  'prediction_date': '2023-11-29T21:18:05.033533',\n  'input_data': {'sepal-length': 6.7,\n   'sepal-width': 3.1,\n   'petal-length': 5.6,\n   'petal-width': 2.4},\n  'prediction': 2.0,\n  'actual': None},\n {'id': '65679c7d6519d0821fadfa9f',\n  'prediction_date': '2023-11-29T21:18:05.043533',\n  'input_data': {'sepal-length': 6.4,\n   'sepal-width': 3.1,\n   'petal-length': 5.5,\n   'petal-width': 1.8},\n  'prediction': 2.0,\n  'actual': None},\n {'id': '65679c7d6519d0821fadfaa0',\n  'prediction_date': '2023-11-29T21:18:05.054541',\n  'input_data': {'sepal-length': 6.3,\n   'sepal-width': 2.3,\n   'petal-length': 4.4,\n   'petal-width': 1.3},\n  'prediction': 1.0,\n  'actual': None},\n {'id': '65679c7d6519d0821fadfaa1',\n  'prediction_date': '2023-11-29T21:18:05.065540',\n  'input_data': {'sepal-length': 6.7,\n   'sepal-width': 3.1,\n   'petal-length': 4.7,\n   'petal-width': 1.5},\n  'prediction': 1.0,\n  'actual': None},\n {'id': '65679c7d6519d0821fadfaa2',\n  'prediction_date': '2023-11-29T21:18:05.076534',\n  'input_data': {'sepal-length': 5.9,\n   'sepal-width': 3.0,\n   'petal-length': 4.2,\n   'petal-width': 1.5},\n  'prediction': 1.0,\n  'actual': None},\n {'id': '65679c7d6519d0821fadfaa3',\n  'prediction_date': '2023-11-29T21:18:05.088534',\n  'input_data': {'sepal-length': 5.8,\n   'sepal-width': 4.0,\n   'petal-length': 1.2,\n   'petal-width': 0.2},\n  'prediction': 0.0,\n  'actual': None},\n {'id': '65679c7d6519d0821fadfaa4',\n  'prediction_date': '2023-11-29T21:18:05.100541',\n  'input_data': {'sepal-length': 4.4,\n   'sepal-width': 3.0,\n   'petal-length': 1.3,\n   'petal-width': 0.2},\n  'prediction': 0.0,\n  'actual': None},\n {'id': '65679c7d6519d0821fadfaa5',\n  'prediction_date': '2023-11-29T21:18:05.111532',\n  'input_data': {'sepal-length': 6.1,\n   'sepal-width': 3.0,\n   'petal-length': 4.6,\n   'petal-width': 1.4},\n  'prediction': 1.0,\n  'actual': None},\n {'id': '65679c7d6519d0821fadfaa6',\n  'prediction_date': '2023-11-29T21:18:05.125541',\n  'input_data': {'sepal-length': 6.5,\n   'sepal-width': 3.0,\n   'petal-length': 5.5,\n   'petal-width': 1.8},\n  'prediction': 2.0,\n  'actual': None},\n {'id': '65679c7d6519d0821fadfaa7',\n  'prediction_date': '2023-11-29T21:18:05.136541',\n  'input_data': {'sepal-length': 5.1,\n   'sepal-width': 3.5,\n   'petal-length': 1.4,\n   'petal-width': 0.2},\n  'prediction': 0.0,\n  'actual': None},\n {'id': '65679c7d6519d0821fadfaa8',\n  'prediction_date': '2023-11-29T21:18:05.149537',\n  'input_data': {'sepal-length': 6.6,\n   'sepal-width': 2.9,\n   'petal-length': 4.6,\n   'petal-width': 1.3},\n  'prediction': 1.0,\n  'actual': None},\n {'id': '65679c7d6519d0821fadfaa9',\n  'prediction_date': '2023-11-29T21:18:05.163503',\n  'input_data': {'sepal-length': 5.7,\n   'sepal-width': 3.8,\n   'petal-length': 1.7,\n   'petal-width': 0.3},\n  'prediction': 0.0,\n  'actual': None},\n {'id': '65679c7d6519d0821fadfaaa',\n  'prediction_date': '2023-11-29T21:18:05.175504',\n  'input_data': {'sepal-length': 6.0,\n   'sepal-width': 3.4,\n   'petal-length': 4.5,\n   'petal-width': 1.6},\n  'prediction': 1.0,\n  'actual': None},\n {'id': '65679c7d6519d0821fadfaab',\n  'prediction_date': '2023-11-29T21:18:05.187503',\n  'input_data': {'sepal-length': 5.6,\n   'sepal-width': 3.0,\n   'petal-length': 4.5,\n   'petal-width': 1.5},\n  'prediction': 1.0,\n  'actual': None},\n {'id': '65679c7d6519d0821fadfaac',\n  'prediction_date': '2023-11-29T21:18:05.200541',\n  'input_data': {'sepal-length': 5.8,\n   'sepal-width': 2.7,\n   'petal-length': 4.1,\n   'petal-width': 1.0},\n  'prediction': 1.0,\n  'actual': None},\n {'id': '65679c7d6519d0821fadfaad',\n  'prediction_date': '2023-11-29T21:18:05.213538',\n  'input_data': {'sepal-length': 6.1,\n   'sepal-width': 2.9,\n   'petal-length': 4.7,\n   'petal-width': 1.4},\n  'prediction': 1.0,\n  'actual': None},\n {'id': '65679c7d6519d0821fadfaae',\n  'prediction_date': '2023-11-29T21:18:05.226543',\n  'input_data': {'sepal-length': 6.2,\n   'sepal-width': 2.8,\n   'petal-length': 4.8,\n   'petal-width': 1.8},\n  'prediction': 1.0,\n  'actual': None},\n {'id': '65679c7d6519d0821fadfaaf',\n  'prediction_date': '2023-11-29T21:18:05.238541',\n  'input_data': {'sepal-length': 4.8,\n   'sepal-width': 3.4,\n   'petal-length': 1.6,\n   'petal-width': 0.2},\n  'prediction': 0.0,\n  'actual': None},\n {'id': '65679c7d6519d0821fadfab0',\n  'prediction_date': '2023-11-29T21:18:05.250534',\n  'input_data': {'sepal-length': 5.1,\n   'sepal-width': 2.5,\n   'petal-length': 3.0,\n   'petal-width': 1.1},\n  'prediction': 1.0,\n  'actual': None},\n {'id': '65679c7d6519d0821fadfab1',\n  'prediction_date': '2023-11-29T21:18:05.264534',\n  'input_data': {'sepal-length': 6.7,\n   'sepal-width': 2.5,\n   'petal-length': 5.8,\n   'petal-width': 1.8},\n  'prediction': 2.0,\n  'actual': None},\n {'id': '65679c7d6519d0821fadfab2',\n  'prediction_date': '2023-11-29T21:18:05.277541',\n  'input_data': {'sepal-length': 6.2,\n   'sepal-width': 3.4,\n   'petal-length': 5.4,\n   'petal-width': 2.3},\n  'prediction': 2.0,\n  'actual': None},\n {'id': '65679c7d6519d0821fadfab3',\n  'prediction_date': '2023-11-29T21:18:05.289542',\n  'input_data': {'sepal-length': 4.9,\n   'sepal-width': 2.5,\n   'petal-length': 4.5,\n   'petal-width': 1.7},\n  'prediction': 1.0,\n  'actual': None},\n {'id': '65679c7d6519d0821fadfab4',\n  'prediction_date': '2023-11-29T21:18:05.302542',\n  'input_data': {'sepal-length': 6.7,\n   'sepal-width': 3.1,\n   'petal-length': 4.4,\n   'petal-width': 1.4},\n  'prediction': 1.0,\n  'actual': None},\n {'id': '65679c7d6519d0821fadfab5',\n  'prediction_date': '2023-11-29T21:18:05.316504',\n  'input_data': {'sepal-length': 5.0,\n   'sepal-width': 3.3,\n   'petal-length': 1.4,\n   'petal-width': 0.2},\n  'prediction': 0.0,\n  'actual': None},\n {'id': '65679c7d6519d0821fadfab6',\n  'prediction_date': '2023-11-29T21:18:05.331057',\n  'input_data': {'sepal-length': 5.7,\n   'sepal-width': 2.8,\n   'petal-length': 4.5,\n   'petal-width': 1.3},\n  'prediction': 1.0,\n  'actual': None},\n {'id': '65679c7d6519d0821fadfab7',\n  'prediction_date': '2023-11-29T21:18:05.344013',\n  'input_data': {'sepal-length': 6.1,\n   'sepal-width': 3.0,\n   'petal-length': 4.9,\n   'petal-width': 1.8},\n  'prediction': 1.0,\n  'actual': None},\n {'id': '65679c7d6519d0821fadfab8',\n  'prediction_date': '2023-11-29T21:18:05.358051',\n  'input_data': {'sepal-length': 6.7,\n   'sepal-width': 3.0,\n   'petal-length': 5.2,\n   'petal-width': 2.3},\n  'prediction': 2.0,\n  'actual': None},\n {'id': '65679c7d6519d0821fadfab9',\n  'prediction_date': '2023-11-29T21:18:05.373046',\n  'input_data': {'sepal-length': 5.4,\n   'sepal-width': 3.4,\n   'petal-length': 1.7,\n   'petal-width': 0.2},\n  'prediction': 0.0,\n  'actual': None},\n {'id': '65679c7d6519d0821fadfaba',\n  'prediction_date': '2023-11-29T21:18:05.386053',\n  'input_data': {'sepal-length': 5.2,\n   'sepal-width': 3.5,\n   'petal-length': 1.5,\n   'petal-width': 0.2},\n  'prediction': 0.0,\n  'actual': None},\n {'id': '65679c7d6519d0821fadfabb',\n  'prediction_date': '2023-11-29T21:18:05.400056',\n  'input_data': {'sepal-length': 7.7,\n   'sepal-width': 2.8,\n   'petal-length': 6.7,\n   'petal-width': 2.0},\n  'prediction': 2.0,\n  'actual': None},\n {'id': '65679c7d6519d0821fadfabc',\n  'prediction_date': '2023-11-29T21:18:05.413050',\n  'input_data': {'sepal-length': 5.4,\n   'sepal-width': 3.7,\n   'petal-length': 1.5,\n   'petal-width': 0.2},\n  'prediction': 0.0,\n  'actual': None},\n {'id': '65679c7d6519d0821fadfabd',\n  'prediction_date': '2023-11-29T21:18:05.426054',\n  'input_data': {'sepal-length': 4.7,\n   'sepal-width': 3.2,\n   'petal-length': 1.3,\n   'petal-width': 0.2},\n  'prediction': 0.0,\n  'actual': None},\n {'id': '65679c7d6519d0821fadfabe',\n  'prediction_date': '2023-11-29T21:18:05.439056',\n  'input_data': {'sepal-length': 6.9,\n   'sepal-width': 3.1,\n   'petal-length': 5.1,\n   'petal-width': 2.3},\n  'prediction': 2.0,\n  'actual': None},\n {'id': '65679c7d6519d0821fadfabf',\n  'prediction_date': '2023-11-29T21:18:05.453354',\n  'input_data': {'sepal-length': 5.2,\n   'sepal-width': 3.4,\n   'petal-length': 1.4,\n   'petal-width': 0.2},\n  'prediction': 0.0,\n  'actual': None},\n {'id': '65679c7d6519d0821fadfac0',\n  'prediction_date': '2023-11-29T21:18:05.469354',\n  'input_data': {'sepal-length': 5.5,\n   'sepal-width': 2.3,\n   'petal-length': 4.0,\n   'petal-width': 1.3},\n  'prediction': 1.0,\n  'actual': None},\n {'id': '65679c7d6519d0821fadfac1',\n  'prediction_date': '2023-11-29T21:18:05.482390',\n  'input_data': {'sepal-length': 4.6,\n   'sepal-width': 3.6,\n   'petal-length': 1.0,\n   'petal-width': 0.2},\n  'prediction': 0.0,\n  'actual': None},\n {'id': '65679c7d6519d0821fadfac2',\n  'prediction_date': '2023-11-29T21:18:05.496354',\n  'input_data': {'sepal-length': 7.1,\n   'sepal-width': 3.0,\n   'petal-length': 5.9,\n   'petal-width': 2.1},\n  'prediction': 2.0,\n  'actual': None},\n {'id': '65679c7d6519d0821fadfac3',\n  'prediction_date': '2023-11-29T21:18:05.509391',\n  'input_data': {'sepal-length': 6.3,\n   'sepal-width': 3.4,\n   'petal-length': 5.6,\n   'petal-width': 2.4},\n  'prediction': 2.0,\n  'actual': None},\n {'id': '65679c7d6519d0821fadfac4',\n  'prediction_date': '2023-11-29T21:18:05.522392',\n  'input_data': {'sepal-length': 6.0,\n   'sepal-width': 3.0,\n   'petal-length': 4.8,\n   'petal-width': 1.8},\n  'prediction': 1.0,\n  'actual': None}]"
     },
     "execution_count": 20,
     "metadata": {},
     "output_type": "execute_result"
    }
   ],
   "source": [
    "send_prediction(\n",
    "    model_name='Demo presentation',\n",
    "    data=X_test\n",
    ")"
   ]
  },
  {
   "cell_type": "code",
   "execution_count": 21,
   "id": "5954c719",
   "metadata": {
    "ExecuteTime": {
     "end_time": "2023-11-29T20:18:07.722008600Z",
     "start_time": "2023-11-29T20:18:07.681993200Z"
    }
   },
   "outputs": [
    {
     "data": {
      "text/plain": "                          id             prediction_date  \\\n0   65679c7c6519d0821fadfa7a  2023-11-29T21:18:04.686000   \n1   65679c7c6519d0821fadfa7b  2023-11-29T21:18:04.695000   \n2   65679c7c6519d0821fadfa7c  2023-11-29T21:18:04.703000   \n3   65679c7c6519d0821fadfa7d  2023-11-29T21:18:04.710000   \n4   65679c7c6519d0821fadfa7e  2023-11-29T21:18:04.723000   \n..                       ...                         ...   \n70  65679c7d6519d0821fadfac0  2023-11-29T21:18:05.469000   \n71  65679c7d6519d0821fadfac1  2023-11-29T21:18:05.482000   \n72  65679c7d6519d0821fadfac2  2023-11-29T21:18:05.496000   \n73  65679c7d6519d0821fadfac3  2023-11-29T21:18:05.509000   \n74  65679c7d6519d0821fadfac4  2023-11-29T21:18:05.522000   \n\n                                           input_data  prediction actual  \n0   {'sepal-length': 5.1, 'sepal-width': 3.7, 'pet...         0.0   None  \n1   {'sepal-length': 5.0, 'sepal-width': 3.4, 'pet...         0.0   None  \n2   {'sepal-length': 5.0, 'sepal-width': 3.2, 'pet...         0.0   None  \n3   {'sepal-length': 5.1, 'sepal-width': 3.3, 'pet...         0.0   None  \n4   {'sepal-length': 6.4, 'sepal-width': 2.8, 'pet...         2.0   None  \n..                                                ...         ...    ...  \n70  {'sepal-length': 5.5, 'sepal-width': 2.3, 'pet...         1.0   None  \n71  {'sepal-length': 4.6, 'sepal-width': 3.6, 'pet...         0.0   None  \n72  {'sepal-length': 7.1, 'sepal-width': 3.0, 'pet...         2.0   None  \n73  {'sepal-length': 6.3, 'sepal-width': 3.4, 'pet...         2.0   None  \n74  {'sepal-length': 6.0, 'sepal-width': 3.0, 'pet...         1.0   None  \n\n[75 rows x 5 columns]",
      "text/html": "<div>\n<style scoped>\n    .dataframe tbody tr th:only-of-type {\n        vertical-align: middle;\n    }\n\n    .dataframe tbody tr th {\n        vertical-align: top;\n    }\n\n    .dataframe thead th {\n        text-align: right;\n    }\n</style>\n<table border=\"1\" class=\"dataframe\">\n  <thead>\n    <tr style=\"text-align: right;\">\n      <th></th>\n      <th>id</th>\n      <th>prediction_date</th>\n      <th>input_data</th>\n      <th>prediction</th>\n      <th>actual</th>\n    </tr>\n  </thead>\n  <tbody>\n    <tr>\n      <th>0</th>\n      <td>65679c7c6519d0821fadfa7a</td>\n      <td>2023-11-29T21:18:04.686000</td>\n      <td>{'sepal-length': 5.1, 'sepal-width': 3.7, 'pet...</td>\n      <td>0.0</td>\n      <td>None</td>\n    </tr>\n    <tr>\n      <th>1</th>\n      <td>65679c7c6519d0821fadfa7b</td>\n      <td>2023-11-29T21:18:04.695000</td>\n      <td>{'sepal-length': 5.0, 'sepal-width': 3.4, 'pet...</td>\n      <td>0.0</td>\n      <td>None</td>\n    </tr>\n    <tr>\n      <th>2</th>\n      <td>65679c7c6519d0821fadfa7c</td>\n      <td>2023-11-29T21:18:04.703000</td>\n      <td>{'sepal-length': 5.0, 'sepal-width': 3.2, 'pet...</td>\n      <td>0.0</td>\n      <td>None</td>\n    </tr>\n    <tr>\n      <th>3</th>\n      <td>65679c7c6519d0821fadfa7d</td>\n      <td>2023-11-29T21:18:04.710000</td>\n      <td>{'sepal-length': 5.1, 'sepal-width': 3.3, 'pet...</td>\n      <td>0.0</td>\n      <td>None</td>\n    </tr>\n    <tr>\n      <th>4</th>\n      <td>65679c7c6519d0821fadfa7e</td>\n      <td>2023-11-29T21:18:04.723000</td>\n      <td>{'sepal-length': 6.4, 'sepal-width': 2.8, 'pet...</td>\n      <td>2.0</td>\n      <td>None</td>\n    </tr>\n    <tr>\n      <th>...</th>\n      <td>...</td>\n      <td>...</td>\n      <td>...</td>\n      <td>...</td>\n      <td>...</td>\n    </tr>\n    <tr>\n      <th>70</th>\n      <td>65679c7d6519d0821fadfac0</td>\n      <td>2023-11-29T21:18:05.469000</td>\n      <td>{'sepal-length': 5.5, 'sepal-width': 2.3, 'pet...</td>\n      <td>1.0</td>\n      <td>None</td>\n    </tr>\n    <tr>\n      <th>71</th>\n      <td>65679c7d6519d0821fadfac1</td>\n      <td>2023-11-29T21:18:05.482000</td>\n      <td>{'sepal-length': 4.6, 'sepal-width': 3.6, 'pet...</td>\n      <td>0.0</td>\n      <td>None</td>\n    </tr>\n    <tr>\n      <th>72</th>\n      <td>65679c7d6519d0821fadfac2</td>\n      <td>2023-11-29T21:18:05.496000</td>\n      <td>{'sepal-length': 7.1, 'sepal-width': 3.0, 'pet...</td>\n      <td>2.0</td>\n      <td>None</td>\n    </tr>\n    <tr>\n      <th>73</th>\n      <td>65679c7d6519d0821fadfac3</td>\n      <td>2023-11-29T21:18:05.509000</td>\n      <td>{'sepal-length': 6.3, 'sepal-width': 3.4, 'pet...</td>\n      <td>2.0</td>\n      <td>None</td>\n    </tr>\n    <tr>\n      <th>74</th>\n      <td>65679c7d6519d0821fadfac4</td>\n      <td>2023-11-29T21:18:05.522000</td>\n      <td>{'sepal-length': 6.0, 'sepal-width': 3.0, 'pet...</td>\n      <td>1.0</td>\n      <td>None</td>\n    </tr>\n  </tbody>\n</table>\n<p>75 rows × 5 columns</p>\n</div>"
     },
     "execution_count": 21,
     "metadata": {},
     "output_type": "execute_result"
    }
   ],
   "source": [
    "pd.DataFrame(get_model_by_name(model_name='Demo presentation')['predictions_data'])"
   ]
  },
  {
   "cell_type": "markdown",
   "id": "4a6f30da",
   "metadata": {},
   "source": [
    "## Invalid prediction (wrong column names)"
   ]
  },
  {
   "cell_type": "code",
   "execution_count": 11,
   "id": "ec5306bb",
   "metadata": {
    "ExecuteTime": {
     "end_time": "2023-11-29T20:10:09.275623500Z",
     "start_time": "2023-11-29T20:10:09.214979100Z"
    }
   },
   "outputs": [
    {
     "ename": "Exception",
     "evalue": "Request failed with status code 400: Cannot make prediction: The feature names should match those that were passed during fit.\nFeature names unseen at fit time:\n- X1\n- X2\nFeature names seen at fit time, yet now missing:\n- petal-length\n- petal-width\n- sepal-length\n- sepal-width\n",
     "output_type": "error",
     "traceback": [
      "\u001B[1;31m---------------------------------------------------------------------------\u001B[0m",
      "\u001B[1;31mException\u001B[0m                                 Traceback (most recent call last)",
      "Cell \u001B[1;32mIn[11], line 1\u001B[0m\n\u001B[1;32m----> 1\u001B[0m \u001B[43msend_prediction\u001B[49m\u001B[43m(\u001B[49m\n\u001B[0;32m      2\u001B[0m \u001B[43m    \u001B[49m\u001B[43mmodel_name\u001B[49m\u001B[38;5;241;43m=\u001B[39;49m\u001B[38;5;124;43m'\u001B[39;49m\u001B[38;5;124;43mDemo presentation\u001B[39;49m\u001B[38;5;124;43m'\u001B[39;49m\u001B[43m,\u001B[49m\n\u001B[0;32m      3\u001B[0m \u001B[43m    \u001B[49m\u001B[43mdata\u001B[49m\u001B[38;5;241;43m=\u001B[39;49m\u001B[43mpd\u001B[49m\u001B[38;5;241;43m.\u001B[39;49m\u001B[43mDataFrame\u001B[49m\u001B[43m(\u001B[49m\u001B[43m{\u001B[49m\u001B[38;5;124;43m'\u001B[39;49m\u001B[38;5;124;43mX1\u001B[39;49m\u001B[38;5;124;43m'\u001B[39;49m\u001B[43m:\u001B[49m\u001B[43m \u001B[49m\u001B[43m[\u001B[49m\u001B[38;5;241;43m121\u001B[39;49m\u001B[43m]\u001B[49m\u001B[43m,\u001B[49m\u001B[43m \u001B[49m\u001B[38;5;124;43m'\u001B[39;49m\u001B[38;5;124;43mX2\u001B[39;49m\u001B[38;5;124;43m'\u001B[39;49m\u001B[43m:\u001B[49m\u001B[43m \u001B[49m\u001B[43m[\u001B[49m\u001B[38;5;241;43m3\u001B[39;49m\u001B[43m]\u001B[49m\u001B[43m}\u001B[49m\u001B[43m)\u001B[49m\n\u001B[0;32m      4\u001B[0m \u001B[43m)\u001B[49m\n",
      "File \u001B[1;32m~\\PycharmProjects\\mlops\\library\\mlops\\monitoring.py:102\u001B[0m, in \u001B[0;36msend_prediction\u001B[1;34m(model_name, data)\u001B[0m\n\u001B[0;32m    100\u001B[0m     \u001B[38;5;28;01mreturn\u001B[39;00m prediction\n\u001B[0;32m    101\u001B[0m \u001B[38;5;28;01melse\u001B[39;00m:\n\u001B[1;32m--> 102\u001B[0m     \u001B[38;5;28;01mraise\u001B[39;00m request_failed_exception(app_response)\n",
      "\u001B[1;31mException\u001B[0m: Request failed with status code 400: Cannot make prediction: The feature names should match those that were passed during fit.\nFeature names unseen at fit time:\n- X1\n- X2\nFeature names seen at fit time, yet now missing:\n- petal-length\n- petal-width\n- sepal-length\n- sepal-width\n"
     ]
    }
   ],
   "source": [
    "send_prediction(\n",
    "    model_name='Demo presentation',\n",
    "    data=pd.DataFrame({'X1': [121], 'X2': [3]})\n",
    ")"
   ]
  },
  {
   "cell_type": "markdown",
   "id": "18eed922",
   "metadata": {},
   "source": [
    "## Invalid prediction (wrong value type)"
   ]
  },
  {
   "cell_type": "code",
   "execution_count": 12,
   "id": "59f616cd",
   "metadata": {
    "ExecuteTime": {
     "end_time": "2023-11-29T20:10:16.640556Z",
     "start_time": "2023-11-29T20:10:16.590833900Z"
    }
   },
   "outputs": [
    {
     "ename": "Exception",
     "evalue": "Request failed with status code 400: Cannot make prediction: could not convert string to float: 'WRONG value'",
     "output_type": "error",
     "traceback": [
      "\u001B[1;31m---------------------------------------------------------------------------\u001B[0m",
      "\u001B[1;31mException\u001B[0m                                 Traceback (most recent call last)",
      "Cell \u001B[1;32mIn[12], line 1\u001B[0m\n\u001B[1;32m----> 1\u001B[0m \u001B[43msend_prediction\u001B[49m\u001B[43m(\u001B[49m\n\u001B[0;32m      2\u001B[0m \u001B[43m    \u001B[49m\u001B[43mmodel_name\u001B[49m\u001B[38;5;241;43m=\u001B[39;49m\u001B[38;5;124;43m'\u001B[39;49m\u001B[38;5;124;43mDemo presentation\u001B[39;49m\u001B[38;5;124;43m'\u001B[39;49m\u001B[43m,\u001B[49m\n\u001B[0;32m      3\u001B[0m \u001B[43m    \u001B[49m\u001B[43mdata\u001B[49m\u001B[38;5;241;43m=\u001B[39;49m\u001B[43mpd\u001B[49m\u001B[38;5;241;43m.\u001B[39;49m\u001B[43mDataFrame\u001B[49m\u001B[43m(\u001B[49m\u001B[43m{\u001B[49m\n\u001B[0;32m      4\u001B[0m \u001B[43m        \u001B[49m\u001B[38;5;124;43m'\u001B[39;49m\u001B[38;5;124;43msepal-length\u001B[39;49m\u001B[38;5;124;43m'\u001B[39;49m\u001B[43m:\u001B[49m\u001B[43m \u001B[49m\u001B[43m[\u001B[49m\u001B[38;5;124;43m'\u001B[39;49m\u001B[38;5;124;43mWRONG value\u001B[39;49m\u001B[38;5;124;43m'\u001B[39;49m\u001B[43m]\u001B[49m\u001B[43m,\u001B[49m\n\u001B[0;32m      5\u001B[0m \u001B[43m        \u001B[49m\u001B[38;5;124;43m'\u001B[39;49m\u001B[38;5;124;43msepal-width\u001B[39;49m\u001B[38;5;124;43m'\u001B[39;49m\u001B[43m:\u001B[49m\u001B[43m \u001B[49m\u001B[43m[\u001B[49m\u001B[38;5;241;43m2.8\u001B[39;49m\u001B[43m]\u001B[49m\u001B[43m,\u001B[49m\n\u001B[0;32m      6\u001B[0m \u001B[43m        \u001B[49m\u001B[38;5;124;43m'\u001B[39;49m\u001B[38;5;124;43mpetal-length\u001B[39;49m\u001B[38;5;124;43m'\u001B[39;49m\u001B[43m:\u001B[49m\u001B[43m \u001B[49m\u001B[43m[\u001B[49m\u001B[38;5;241;43m4.9\u001B[39;49m\u001B[43m]\u001B[49m\u001B[43m,\u001B[49m\n\u001B[0;32m      7\u001B[0m \u001B[43m        \u001B[49m\u001B[38;5;124;43m'\u001B[39;49m\u001B[38;5;124;43mpetal-width\u001B[39;49m\u001B[38;5;124;43m'\u001B[39;49m\u001B[43m:\u001B[49m\u001B[43m \u001B[49m\u001B[43m[\u001B[49m\u001B[38;5;241;43m2.0\u001B[39;49m\u001B[43m]\u001B[49m\n\u001B[0;32m      8\u001B[0m \u001B[43m    \u001B[49m\u001B[43m}\u001B[49m\u001B[43m)\u001B[49m\n\u001B[0;32m      9\u001B[0m \u001B[43m)\u001B[49m\n",
      "File \u001B[1;32m~\\PycharmProjects\\mlops\\library\\mlops\\monitoring.py:102\u001B[0m, in \u001B[0;36msend_prediction\u001B[1;34m(model_name, data)\u001B[0m\n\u001B[0;32m    100\u001B[0m     \u001B[38;5;28;01mreturn\u001B[39;00m prediction\n\u001B[0;32m    101\u001B[0m \u001B[38;5;28;01melse\u001B[39;00m:\n\u001B[1;32m--> 102\u001B[0m     \u001B[38;5;28;01mraise\u001B[39;00m request_failed_exception(app_response)\n",
      "\u001B[1;31mException\u001B[0m: Request failed with status code 400: Cannot make prediction: could not convert string to float: 'WRONG value'"
     ]
    }
   ],
   "source": [
    "send_prediction(\n",
    "    model_name='Demo presentation',\n",
    "    data=pd.DataFrame({\n",
    "        'sepal-length': ['WRONG value'],\n",
    "        'sepal-width': [2.8],\n",
    "        'petal-length': [4.9],\n",
    "        'petal-width': [2.0]\n",
    "    })\n",
    ")"
   ]
  },
  {
   "cell_type": "markdown",
   "id": "076e574a",
   "metadata": {},
   "source": [
    "## Invalid + valid together"
   ]
  },
  {
   "cell_type": "code",
   "execution_count": 13,
   "id": "23bf4b0b",
   "metadata": {
    "ExecuteTime": {
     "end_time": "2023-11-29T20:10:26.117758Z",
     "start_time": "2023-11-29T20:10:26.054286900Z"
    }
   },
   "outputs": [
    {
     "ename": "Exception",
     "evalue": "Request failed with status code 400: Cannot make prediction: could not convert string to float: 'WRONG value'",
     "output_type": "error",
     "traceback": [
      "\u001B[1;31m---------------------------------------------------------------------------\u001B[0m",
      "\u001B[1;31mException\u001B[0m                                 Traceback (most recent call last)",
      "Cell \u001B[1;32mIn[13], line 1\u001B[0m\n\u001B[1;32m----> 1\u001B[0m \u001B[43msend_prediction\u001B[49m\u001B[43m(\u001B[49m\n\u001B[0;32m      2\u001B[0m \u001B[43m    \u001B[49m\u001B[43mmodel_name\u001B[49m\u001B[38;5;241;43m=\u001B[39;49m\u001B[38;5;124;43m'\u001B[39;49m\u001B[38;5;124;43mDemo presentation\u001B[39;49m\u001B[38;5;124;43m'\u001B[39;49m\u001B[43m,\u001B[49m\n\u001B[0;32m      3\u001B[0m \u001B[43m    \u001B[49m\u001B[43mdata\u001B[49m\u001B[38;5;241;43m=\u001B[39;49m\u001B[43mpd\u001B[49m\u001B[38;5;241;43m.\u001B[39;49m\u001B[43mDataFrame\u001B[49m\u001B[43m(\u001B[49m\u001B[43m{\u001B[49m\n\u001B[0;32m      4\u001B[0m \u001B[43m        \u001B[49m\u001B[38;5;124;43m'\u001B[39;49m\u001B[38;5;124;43msepal-length\u001B[39;49m\u001B[38;5;124;43m'\u001B[39;49m\u001B[43m:\u001B[49m\u001B[43m \u001B[49m\u001B[43m[\u001B[49m\u001B[38;5;241;43m1.0\u001B[39;49m\u001B[43m,\u001B[49m\u001B[43m \u001B[49m\u001B[38;5;124;43m'\u001B[39;49m\u001B[38;5;124;43mWRONG value\u001B[39;49m\u001B[38;5;124;43m'\u001B[39;49m\u001B[43m]\u001B[49m\u001B[43m,\u001B[49m\n\u001B[0;32m      5\u001B[0m \u001B[43m        \u001B[49m\u001B[38;5;124;43m'\u001B[39;49m\u001B[38;5;124;43msepal-width\u001B[39;49m\u001B[38;5;124;43m'\u001B[39;49m\u001B[43m:\u001B[49m\u001B[43m \u001B[49m\u001B[43m[\u001B[49m\u001B[38;5;241;43m1.0\u001B[39;49m\u001B[43m,\u001B[49m\u001B[43m \u001B[49m\u001B[38;5;241;43m1.0\u001B[39;49m\u001B[43m]\u001B[49m\u001B[43m,\u001B[49m\n\u001B[0;32m      6\u001B[0m \u001B[43m        \u001B[49m\u001B[38;5;124;43m'\u001B[39;49m\u001B[38;5;124;43mpetal-length\u001B[39;49m\u001B[38;5;124;43m'\u001B[39;49m\u001B[43m:\u001B[49m\u001B[43m \u001B[49m\u001B[43m[\u001B[49m\u001B[38;5;241;43m1.0\u001B[39;49m\u001B[43m,\u001B[49m\u001B[43m \u001B[49m\u001B[38;5;241;43m1.0\u001B[39;49m\u001B[43m]\u001B[49m\u001B[43m,\u001B[49m\n\u001B[0;32m      7\u001B[0m \u001B[43m        \u001B[49m\u001B[38;5;124;43m'\u001B[39;49m\u001B[38;5;124;43mpetal-width\u001B[39;49m\u001B[38;5;124;43m'\u001B[39;49m\u001B[43m:\u001B[49m\u001B[43m \u001B[49m\u001B[43m[\u001B[49m\u001B[38;5;241;43m1.0\u001B[39;49m\u001B[43m,\u001B[49m\u001B[43m \u001B[49m\u001B[38;5;241;43m1.0\u001B[39;49m\u001B[43m]\u001B[49m\n\u001B[0;32m      8\u001B[0m \u001B[43m    \u001B[49m\u001B[43m}\u001B[49m\u001B[43m)\u001B[49m\n\u001B[0;32m      9\u001B[0m \u001B[43m)\u001B[49m\n",
      "File \u001B[1;32m~\\PycharmProjects\\mlops\\library\\mlops\\monitoring.py:102\u001B[0m, in \u001B[0;36msend_prediction\u001B[1;34m(model_name, data)\u001B[0m\n\u001B[0;32m    100\u001B[0m     \u001B[38;5;28;01mreturn\u001B[39;00m prediction\n\u001B[0;32m    101\u001B[0m \u001B[38;5;28;01melse\u001B[39;00m:\n\u001B[1;32m--> 102\u001B[0m     \u001B[38;5;28;01mraise\u001B[39;00m request_failed_exception(app_response)\n",
      "\u001B[1;31mException\u001B[0m: Request failed with status code 400: Cannot make prediction: could not convert string to float: 'WRONG value'"
     ]
    }
   ],
   "source": [
    "send_prediction(\n",
    "    model_name='Demo presentation',\n",
    "    data=pd.DataFrame({\n",
    "        'sepal-length': [1.0, 'WRONG value'],\n",
    "        'sepal-width': [1.0, 1.0],\n",
    "        'petal-length': [1.0, 1.0],\n",
    "        'petal-width': [1.0, 1.0]\n",
    "    })\n",
    ")"
   ]
  },
  {
   "cell_type": "code",
   "execution_count": null,
   "id": "0f5dc7fd",
   "metadata": {},
   "outputs": [],
   "source": []
  }
 ],
 "metadata": {
  "kernelspec": {
   "display_name": "Python 3 (ipykernel)",
   "language": "python",
   "name": "python3"
  },
  "language_info": {
   "codemirror_mode": {
    "name": "ipython",
    "version": 3
   },
   "file_extension": ".py",
   "mimetype": "text/x-python",
   "name": "python",
   "nbconvert_exporter": "python",
   "pygments_lexer": "ipython3",
   "version": "3.9.16"
  },
  "toc": {
   "base_numbering": 1,
   "nav_menu": {},
   "number_sections": false,
   "sideBar": true,
   "skip_h1_title": false,
   "title_cell": "Table of Contents",
   "title_sidebar": "Contents",
   "toc_cell": false,
   "toc_position": {},
   "toc_section_display": true,
   "toc_window_display": true
  }
 },
 "nbformat": 4,
 "nbformat_minor": 5
}
