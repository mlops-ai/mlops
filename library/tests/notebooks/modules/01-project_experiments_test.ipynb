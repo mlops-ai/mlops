{
 "cells": [
  {
   "cell_type": "code",
   "execution_count": 2,
   "id": "3f0cab78",
   "metadata": {
    "ExecuteTime": {
     "end_time": "2023-06-03T08:21:10.096140Z",
     "start_time": "2023-06-03T08:21:10.089142Z"
    }
   },
   "outputs": [],
   "source": [
    "# !pip install mlops-ai"
   ]
  },
  {
   "cell_type": "code",
   "execution_count": 3,
   "id": "0426331e",
   "metadata": {
    "ExecuteTime": {
     "end_time": "2023-06-03T08:21:14.009019Z",
     "start_time": "2023-06-03T08:21:10.324170Z"
    },
    "scrolled": true
   },
   "outputs": [
    {
     "name": "stdout",
     "output_type": "stream",
     "text": [
      "Name: mlops-ai\n",
      "Version: 1.0.1\n",
      "Summary: Mlops-ai library for managing machine learning projects, experiments, iterations and datasets.\n",
      "Home-page: \n",
      "Author: Kacper Pękalski, Kajetan Szal, Jędrzej Rybczyński\n",
      "Author-email: \n",
      "License: Apache License 2.0\n",
      "Location: c:\\users\\jedryb\\anaconda3\\lib\\site-packages\n",
      "Requires: requests\n",
      "Required-by: \n"
     ]
    }
   ],
   "source": [
    "!pip show mlops-ai"
   ]
  },
  {
   "cell_type": "code",
   "execution_count": 5,
   "id": "0b41006b",
   "metadata": {
    "ExecuteTime": {
     "end_time": "2023-06-03T08:21:33.775938Z",
     "start_time": "2023-06-03T08:21:33.633416Z"
    }
   },
   "outputs": [],
   "source": [
    "from mlops.tracking import create_project, get_project, set_active_project\n",
    "from mlops.tracking import create_experiment, get_experiment, set_active_experiment\n",
    "from mlops.tracking import settings\n",
    "\n",
    "%load_ext autoreload\n",
    "%autoreload 2"
   ]
  },
  {
   "cell_type": "markdown",
   "id": "9e277495",
   "metadata": {},
   "source": [
    "## Create project"
   ]
  },
  {
   "cell_type": "code",
   "execution_count": 17,
   "id": "49e1e89b",
   "metadata": {
    "ExecuteTime": {
     "end_time": "2023-05-25T18:54:37.114814Z",
     "start_time": "2023-05-25T18:54:37.059362Z"
    },
    "scrolled": true
   },
   "outputs": [
    {
     "data": {
      "text/plain": [
       "{'_id': '646faeed9b1d7319bb1e2cfc',\n",
       " 'title': 'My first library project',\n",
       " 'description': 'My first project :)',\n",
       " 'status': 'in_progress',\n",
       " 'archived': False,\n",
       " 'created_at': '2023-05-25T18:54:37.094011',\n",
       " 'updated_at': '2023-05-25T18:54:37.094017',\n",
       " 'experiments': []}"
      ]
     },
     "execution_count": 17,
     "metadata": {},
     "output_type": "execute_result"
    }
   ],
   "source": [
    "project = create_project(title=\"My first library project\", description=\"My first project :)\", status='in_progress')\n",
    "project"
   ]
  },
  {
   "cell_type": "code",
   "execution_count": 18,
   "id": "af4d4bec",
   "metadata": {
    "ExecuteTime": {
     "end_time": "2023-05-25T18:54:37.597411Z",
     "start_time": "2023-05-25T18:54:37.548256Z"
    },
    "scrolled": false
   },
   "outputs": [
    {
     "data": {
      "text/plain": [
       "'Active project set to: 646faeed9b1d7319bb1e2cfc'"
      ]
     },
     "execution_count": 18,
     "metadata": {},
     "output_type": "execute_result"
    }
   ],
   "source": [
    "set_active_project(project_id=project['_id'])"
   ]
  },
  {
   "cell_type": "code",
   "execution_count": 19,
   "id": "2d792a9a",
   "metadata": {
    "ExecuteTime": {
     "end_time": "2023-05-25T18:54:37.971317Z",
     "start_time": "2023-05-25T18:54:37.920755Z"
    }
   },
   "outputs": [
    {
     "data": {
      "text/plain": [
       "{'_id': '646faeed9b1d7319bb1e2cfc',\n",
       " 'title': 'My first library project',\n",
       " 'description': 'My first project :)',\n",
       " 'status': 'in_progress',\n",
       " 'archived': False,\n",
       " 'created_at': '2023-05-25T18:54:37.094000',\n",
       " 'updated_at': '2023-05-25T18:54:37.094000',\n",
       " 'experiments': []}"
      ]
     },
     "execution_count": 19,
     "metadata": {},
     "output_type": "execute_result"
    }
   ],
   "source": [
    "get_project()"
   ]
  },
  {
   "cell_type": "markdown",
   "id": "896303ce",
   "metadata": {},
   "source": [
    "## Create experiment"
   ]
  },
  {
   "cell_type": "code",
   "execution_count": 20,
   "id": "a8c3156c",
   "metadata": {
    "ExecuteTime": {
     "end_time": "2023-05-25T18:54:38.908186Z",
     "start_time": "2023-05-25T18:54:38.864362Z"
    }
   },
   "outputs": [],
   "source": [
    "experiment = create_experiment(name=\"Experiment v1\",\n",
    "                               description=\"Exploratory data analysis\")"
   ]
  },
  {
   "cell_type": "code",
   "execution_count": 21,
   "id": "5d874ed3",
   "metadata": {
    "ExecuteTime": {
     "end_time": "2023-05-25T18:54:39.251088Z",
     "start_time": "2023-05-25T18:54:39.193059Z"
    }
   },
   "outputs": [
    {
     "data": {
      "text/plain": [
       "'Active experiment set to: 646faeee9b1d7319bb1e2cfd'"
      ]
     },
     "execution_count": 21,
     "metadata": {},
     "output_type": "execute_result"
    }
   ],
   "source": [
    "set_active_experiment(experiment['id'])"
   ]
  },
  {
   "cell_type": "code",
   "execution_count": 22,
   "id": "f949c280",
   "metadata": {
    "ExecuteTime": {
     "end_time": "2023-05-25T18:54:39.564818Z",
     "start_time": "2023-05-25T18:54:39.517432Z"
    }
   },
   "outputs": [
    {
     "data": {
      "text/plain": [
       "{'id': '646faeee9b1d7319bb1e2cfd',\n",
       " 'project_id': '646faeed9b1d7319bb1e2cfc',\n",
       " 'name': 'Experiment v1',\n",
       " 'description': 'Exploratory data analysis',\n",
       " 'created_at': '2023-05-25T18:54:38.898000',\n",
       " 'updated_at': '2023-05-25T18:54:38.898000',\n",
       " 'iterations': []}"
      ]
     },
     "execution_count": 22,
     "metadata": {},
     "output_type": "execute_result"
    }
   ],
   "source": [
    "get_experiment()"
   ]
  },
  {
   "cell_type": "code",
   "execution_count": null,
   "id": "d03a71f7",
   "metadata": {},
   "outputs": [],
   "source": []
  }
 ],
 "metadata": {
  "kernelspec": {
   "display_name": "Python 3 (ipykernel)",
   "language": "python",
   "name": "python3"
  },
  "language_info": {
   "codemirror_mode": {
    "name": "ipython",
    "version": 3
   },
   "file_extension": ".py",
   "mimetype": "text/x-python",
   "name": "python",
   "nbconvert_exporter": "python",
   "pygments_lexer": "ipython3",
   "version": "3.9.16"
  },
  "toc": {
   "base_numbering": 1,
   "nav_menu": {},
   "number_sections": false,
   "sideBar": true,
   "skip_h1_title": false,
   "title_cell": "Table of Contents",
   "title_sidebar": "Contents",
   "toc_cell": false,
   "toc_position": {
    "height": "calc(100% - 180px)",
    "left": "10px",
    "top": "150px",
    "width": "384px"
   },
   "toc_section_display": true,
   "toc_window_display": true
  }
 },
 "nbformat": 4,
 "nbformat_minor": 5
}
