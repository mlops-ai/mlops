{
 "cells": [
  {
   "cell_type": "code",
   "execution_count": 1,
   "id": "740e6317",
   "metadata": {
    "ExecuteTime": {
     "end_time": "2023-06-10T10:02:29.380601Z",
     "start_time": "2023-06-10T10:02:29.245083Z"
    }
   },
   "outputs": [],
   "source": [
    "import sys\n",
    "sys.path.append(\"../../\")\n",
    "\n",
    "%load_ext autoreload\n",
    "%autoreload 2\n",
    "\n",
    "from mlops.tracking import set_active_experiment, set_active_project, get_project_by_name, get_experiment_by_name\n",
    "from mlops.tracking import start_iteration\n",
    "from mlops.src.chart import Chart"
   ]
  },
  {
   "cell_type": "markdown",
   "id": "a4922271",
   "metadata": {},
   "source": [
    "## Get project & experiment and set as active"
   ]
  },
  {
   "cell_type": "code",
   "execution_count": 2,
   "id": "2892b26b",
   "metadata": {
    "ExecuteTime": {
     "end_time": "2023-06-10T10:02:30.125217Z",
     "start_time": "2023-06-10T10:02:30.070216Z"
    }
   },
   "outputs": [
    {
     "data": {
      "text/plain": [
       "'Active project set to: 647df4575d2a5b74d50b47d3'"
      ]
     },
     "execution_count": 2,
     "metadata": {},
     "output_type": "execute_result"
    }
   ],
   "source": [
    "project = get_project_by_name('My first library project')\n",
    "set_active_project(project['_id'])"
   ]
  },
  {
   "cell_type": "code",
   "execution_count": 3,
   "id": "9649acdf",
   "metadata": {
    "ExecuteTime": {
     "end_time": "2023-06-10T10:02:30.624804Z",
     "start_time": "2023-06-10T10:02:30.561806Z"
    }
   },
   "outputs": [
    {
     "data": {
      "text/plain": [
       "'Active experiment set to: 647e52f5ff61b839a57e21ee'"
      ]
     },
     "execution_count": 3,
     "metadata": {},
     "output_type": "execute_result"
    }
   ],
   "source": [
    "experiment = get_experiment_by_name('Experiment v1')\n",
    "set_active_experiment(experiment['id'])"
   ]
  },
  {
   "cell_type": "markdown",
   "id": "958c990d",
   "metadata": {},
   "source": [
    "## Log iteration with interactive chart"
   ]
  },
  {
   "cell_type": "code",
   "execution_count": 10,
   "id": "aaa3ca6b",
   "metadata": {
    "ExecuteTime": {
     "end_time": "2023-06-10T10:17:54.204632Z",
     "start_time": "2023-06-10T10:17:54.145631Z"
    }
   },
   "outputs": [],
   "source": [
    "with start_iteration('Iteration with line chart') as iteration:\n",
    "    iteration.log_parameter('test_parameter', 100)\n",
    "    iteration.log_metric('accuracy', 0.98)\n",
    "    iteration.log_chart(\n",
    "        chart_name=\"Chart 1\", chart_type=\"line\",\n",
    "        x_data=[[1, 2, 3]], y_data=[[1, 2, 3]],\n",
    "        x_label=\"Age\", y_label=\"Survived\", chart_title='test',\n",
    "        comparable=False)"
   ]
  },
  {
   "cell_type": "code",
   "execution_count": 13,
   "id": "b21f179c",
   "metadata": {
    "ExecuteTime": {
     "end_time": "2023-06-10T10:21:09.944391Z",
     "start_time": "2023-06-10T10:21:09.816364Z"
    }
   },
   "outputs": [],
   "source": [
    "with start_iteration('Iteration with boxplot chart') as iteration:\n",
    "    iteration.log_parameter('test_parameter', 100)\n",
    "    iteration.log_metric('test_accuracy', 0.98)\n",
    "    iteration.log_chart(\n",
    "        chart_name=\"Chart 2\", chart_type=\"boxplot\",\n",
    "        x_data=[[1, 2, 3]], y_data=[[1, 2, 3, 4, 5], [2, 33, 17, 5, 4], [34, 22, 19, 4, 25]],\n",
    "        y_data_names=[\"Person 1\",\"Person 2\",\"Person 3\"],\n",
    "        x_label=\"Age\", y_label=\"Survived\",\n",
    "        chart_title='test', comparable=False)"
   ]
  },
  {
   "cell_type": "code",
   "execution_count": 15,
   "id": "f04eb93d",
   "metadata": {
    "ExecuteTime": {
     "end_time": "2023-06-10T10:24:43.885785Z",
     "start_time": "2023-06-10T10:24:43.831269Z"
    }
   },
   "outputs": [],
   "source": [
    "with start_iteration('Iteration with pie chart') as iteration:\n",
    "    iteration.log_parameter('test_parameter', 100)\n",
    "    iteration.log_metric('test_accuracy', 0.98)\n",
    "    iteration.log_chart(chart_name=\"Chart 1\", chart_type=\"pie\",\n",
    "                        x_data=[[1, 2, 3]], y_data=[[1, 2, 3]],\n",
    "                        x_label=\"Age\", y_label=\"Survived\", \n",
    "                        chart_title='test', comparable=False)"
   ]
  },
  {
   "cell_type": "markdown",
   "id": "873e5666",
   "metadata": {},
   "source": [
    "## Log iteration with image chart"
   ]
  },
  {
   "cell_type": "code",
   "execution_count": 5,
   "id": "9a5c2569",
   "metadata": {
    "ExecuteTime": {
     "end_time": "2023-06-10T10:03:11.046645Z",
     "start_time": "2023-06-10T10:03:10.995644Z"
    }
   },
   "outputs": [],
   "source": [
    "with start_iteration(\"Iteration with image\") as iteration:\n",
    "    iteration.log_parameter(\"n_estimators\", 150)\n",
    "    iteration.log_metric(\"RMSE\", 0.9)\n",
    "    iteration.log_path_to_model(r\"C:/Users/jedryb/Desktop/inz.txt\")\n",
    "    iteration.log_image_chart(name=\"Image chart 1\", \n",
    "                              image_path='../test_files/test_image_chart.png')"
   ]
  },
  {
   "cell_type": "code",
   "execution_count": null,
   "id": "3ea30619",
   "metadata": {},
   "outputs": [],
   "source": []
  }
 ],
 "metadata": {
  "kernelspec": {
   "display_name": "Python 3 (ipykernel)",
   "language": "python",
   "name": "python3"
  },
  "language_info": {
   "codemirror_mode": {
    "name": "ipython",
    "version": 3
   },
   "file_extension": ".py",
   "mimetype": "text/x-python",
   "name": "python",
   "nbconvert_exporter": "python",
   "pygments_lexer": "ipython3",
   "version": "3.9.16"
  },
  "toc": {
   "base_numbering": 1,
   "nav_menu": {},
   "number_sections": false,
   "sideBar": true,
   "skip_h1_title": false,
   "title_cell": "Table of Contents",
   "title_sidebar": "Contents",
   "toc_cell": false,
   "toc_position": {},
   "toc_section_display": true,
   "toc_window_display": true
  }
 },
 "nbformat": 4,
 "nbformat_minor": 5
}
