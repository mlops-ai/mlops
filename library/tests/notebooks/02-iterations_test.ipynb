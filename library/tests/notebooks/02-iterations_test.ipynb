{
 "cells": [
  {
   "cell_type": "code",
   "execution_count": 1,
   "id": "80778138",
   "metadata": {
    "ExecuteTime": {
     "end_time": "2023-06-03T08:22:19.773138Z",
     "start_time": "2023-06-03T08:22:19.673622Z"
    }
   },
   "outputs": [],
   "source": [
    "from mlops.tracking import set_active_experiment, set_active_project, get_project_by_name, get_experiment_by_name\n",
    "from mlops.tracking import start_iteration"
   ]
  },
  {
   "cell_type": "markdown",
   "id": "459da0d4",
   "metadata": {},
   "source": [
    "## Get project & experiment and set as active"
   ]
  },
  {
   "cell_type": "code",
   "execution_count": 19,
   "id": "cf1b5b67",
   "metadata": {
    "ExecuteTime": {
     "end_time": "2023-05-25T18:54:42.531694Z",
     "start_time": "2023-05-25T18:54:42.475459Z"
    },
    "scrolled": true
   },
   "outputs": [
    {
     "data": {
      "text/plain": [
       "'Active project set to: 646faeed9b1d7319bb1e2cfc'"
      ]
     },
     "execution_count": 19,
     "metadata": {},
     "output_type": "execute_result"
    }
   ],
   "source": [
    "project = get_project_by_name('My first library project')\n",
    "set_active_project(project['_id'])"
   ]
  },
  {
   "cell_type": "code",
   "execution_count": 20,
   "id": "266bb827",
   "metadata": {
    "ExecuteTime": {
     "end_time": "2023-05-25T18:54:42.874786Z",
     "start_time": "2023-05-25T18:54:42.807328Z"
    },
    "scrolled": false
   },
   "outputs": [
    {
     "data": {
      "text/plain": [
       "'Active experiment set to: 646faeee9b1d7319bb1e2cfd'"
      ]
     },
     "execution_count": 20,
     "metadata": {},
     "output_type": "execute_result"
    }
   ],
   "source": [
    "experiment = get_experiment_by_name('Experiment v1')\n",
    "set_active_experiment(experiment['id'])"
   ]
  },
  {
   "cell_type": "markdown",
   "id": "eeb7855d",
   "metadata": {},
   "source": [
    "## Log simple iteration"
   ]
  },
  {
   "cell_type": "code",
   "execution_count": 21,
   "id": "5b510bb1",
   "metadata": {
    "ExecuteTime": {
     "end_time": "2023-05-25T18:54:43.826151Z",
     "start_time": "2023-05-25T18:54:43.783554Z"
    }
   },
   "outputs": [],
   "source": [
    "with start_iteration(\"First iteration.\") as iteration:\n",
    "    iteration.log_parameter(\"n_estimators\", 150)\n",
    "    iteration.log_metric(\"RMSE\", 0.25)"
   ]
  },
  {
   "cell_type": "code",
   "execution_count": null,
   "id": "f607acb8",
   "metadata": {},
   "outputs": [],
   "source": []
  }
 ],
 "metadata": {
  "kernelspec": {
   "display_name": "Python 3 (ipykernel)",
   "language": "python",
   "name": "python3"
  },
  "language_info": {
   "codemirror_mode": {
    "name": "ipython",
    "version": 3
   },
   "file_extension": ".py",
   "mimetype": "text/x-python",
   "name": "python",
   "nbconvert_exporter": "python",
   "pygments_lexer": "ipython3",
   "version": "3.9.16"
  },
  "toc": {
   "base_numbering": 1,
   "nav_menu": {},
   "number_sections": false,
   "sideBar": true,
   "skip_h1_title": false,
   "title_cell": "Table of Contents",
   "title_sidebar": "Contents",
   "toc_cell": false,
   "toc_position": {
    "height": "calc(100% - 180px)",
    "left": "10px",
    "top": "150px",
    "width": "384px"
   },
   "toc_section_display": true,
   "toc_window_display": true
  }
 },
 "nbformat": 4,
 "nbformat_minor": 5
}
