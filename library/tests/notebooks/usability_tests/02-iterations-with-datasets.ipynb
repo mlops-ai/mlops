{
 "cells": [
  {
   "cell_type": "markdown",
   "id": "87c09a07",
   "metadata": {},
   "source": [
    "# 02-iterations-with-datasets"
   ]
  },
  {
   "cell_type": "code",
   "execution_count": 1,
   "id": "e7f12d82",
   "metadata": {
    "ExecuteTime": {
     "end_time": "2023-06-14T16:37:03.903031Z",
     "start_time": "2023-06-14T16:37:00.061380Z"
    }
   },
   "outputs": [
    {
     "name": "stdout",
     "output_type": "stream",
     "text": [
      "Name: mlops-ai\n",
      "Version: 1.1.0\n",
      "Summary: Mlops-ai library for managing machine learning projects, experiments, iterations and datasets.\n",
      "Home-page: \n",
      "Author: Kacper Pękalski, Kajetan Szal, Jędrzej Rybczyński\n",
      "Author-email: kac.pekalski1@gmail.com\n",
      "License: Apache License 2.0\n",
      "Location: c:\\users\\jedryb\\anaconda3\\lib\\site-packages\n",
      "Requires: requests\n",
      "Required-by: \n"
     ]
    }
   ],
   "source": [
    "!pip show mlops-ai"
   ]
  },
  {
   "cell_type": "markdown",
   "id": "b1c0a03e",
   "metadata": {},
   "source": [
    "## Setting active project & experiment"
   ]
  },
  {
   "cell_type": "code",
   "execution_count": 2,
   "id": "9554c6a7",
   "metadata": {
    "ExecuteTime": {
     "end_time": "2023-06-14T16:37:16.570448Z",
     "start_time": "2023-06-14T16:37:16.462299Z"
    }
   },
   "outputs": [
    {
     "data": {
      "text/plain": [
       "'Active project set to: 6489ec527f8983d10183cc1b'"
      ]
     },
     "execution_count": 2,
     "metadata": {},
     "output_type": "execute_result"
    }
   ],
   "source": [
    "from mlops.tracking import get_project_by_name, set_active_project\n",
    "\n",
    "project = get_project_by_name('Iris classification')\n",
    "set_active_project(project['_id'])"
   ]
  },
  {
   "cell_type": "code",
   "execution_count": 3,
   "id": "47a6b7bd",
   "metadata": {
    "ExecuteTime": {
     "end_time": "2023-06-14T16:37:17.029035Z",
     "start_time": "2023-06-14T16:37:16.997276Z"
    }
   },
   "outputs": [
    {
     "data": {
      "text/plain": [
       "'Active experiment set to: 6489ec657f8983d10183cc1e'"
      ]
     },
     "execution_count": 3,
     "metadata": {},
     "output_type": "execute_result"
    }
   ],
   "source": [
    "from mlops.tracking import get_experiment_by_name, set_active_experiment\n",
    "\n",
    "experiment = get_experiment_by_name('Dataset models')\n",
    "set_active_experiment(experiment_id=experiment['id'])"
   ]
  },
  {
   "cell_type": "markdown",
   "id": "fd661bab",
   "metadata": {},
   "source": [
    "## Creating another datasets"
   ]
  },
  {
   "cell_type": "code",
   "execution_count": 4,
   "id": "24712a5f",
   "metadata": {
    "ExecuteTime": {
     "end_time": "2023-06-14T16:37:29.517431Z",
     "start_time": "2023-06-14T16:37:29.088577Z"
    }
   },
   "outputs": [],
   "source": [
    "from mlops.tracking import create_dataset\n",
    "\n",
    "dataset_v2 = create_dataset(\n",
    "    dataset_name=\"Iris dataset\",\n",
    "    path_to_dataset=\"https://www.kaggle.com/datasets/uciml/iris\",\n",
    "    dataset_description=\"Famous Iris species dataset\",\n",
    "    tags=\"iris,kaggle,classification,multiclass\",\n",
    "    version=\"2.0\"\n",
    ")"
   ]
  },
  {
   "cell_type": "code",
   "execution_count": 5,
   "id": "7737d05f",
   "metadata": {
    "ExecuteTime": {
     "end_time": "2023-06-14T16:37:30.429795Z",
     "start_time": "2023-06-14T16:37:29.982112Z"
    }
   },
   "outputs": [],
   "source": [
    "dataset_v3 = create_dataset(\n",
    "    dataset_name=\"Iris dataset\",\n",
    "    path_to_dataset=\"https://www.kaggle.com/datasets/arshid/iris-flower-dataset\",\n",
    "    dataset_description=\"Famous Iris species dataset\",\n",
    "    tags=\"iris,kaggle,classification,multiclass\",\n",
    "    version=\"3.0\"\n",
    ")"
   ]
  },
  {
   "cell_type": "markdown",
   "id": "0319eac1",
   "metadata": {},
   "source": [
    "## Creating some iterations with datasets"
   ]
  },
  {
   "cell_type": "code",
   "execution_count": 6,
   "id": "d942b22e",
   "metadata": {
    "ExecuteTime": {
     "end_time": "2023-06-14T16:37:34.575814Z",
     "start_time": "2023-06-14T16:37:33.248582Z"
    }
   },
   "outputs": [],
   "source": [
    "import pandas as pd \n",
    "from sklearn.model_selection import train_test_split\n",
    "\n",
    "url = 'https://raw.githubusercontent.com/TripathiAshutosh/dataset/main/iris.csv'\n",
    "df = pd.read_csv(filepath_or_buffer=url, sep=',')\n",
    "y = df['class']\n",
    "X = df.drop(columns=['class'])\n",
    "X_train, X_test, y_train, y_test = train_test_split(X, y, test_size=0.5, stratify = y, random_state=42)"
   ]
  },
  {
   "cell_type": "code",
   "execution_count": 7,
   "id": "25b19bad",
   "metadata": {
    "ExecuteTime": {
     "end_time": "2023-06-14T16:37:34.590815Z",
     "start_time": "2023-06-14T16:37:34.577815Z"
    }
   },
   "outputs": [],
   "source": [
    "from mlops.tracking import start_iteration\n",
    "\n",
    "\n",
    "def log_single_iteration(iteration_name: str,\n",
    "                         model_params: dict = None,\n",
    "                         metrics: dict = None,\n",
    "                         model_path: str = None,\n",
    "                         dataset_id: str = None,\n",
    "                         interactive_charts: list = None):\n",
    "    \"\"\"\n",
    "    Util function for creating single mlops iteration.\n",
    "    \n",
    "    Args:\n",
    "        iteration_name (str): name of the whole iteration\n",
    "        model_params (dict): parameters of model\n",
    "        metrics (dict): model metrics\n",
    "        model_path (str): path to saved model file\n",
    "        dataset_id (str): id to dataset from datasets tab\n",
    "    \"\"\"\n",
    "    with start_iteration(iteration_name=iteration_name) as iteration:\n",
    "        if model_params:\n",
    "            iteration.log_parameters(parameters=model_params)\n",
    "            \n",
    "        if metrics:\n",
    "            iteration.log_metrics(metrics=metrics)\n",
    "            \n",
    "        if model_path:\n",
    "            iteration.log_path_to_model(path_to_model=model_path)\n",
    "        \n",
    "        if dataset_id:\n",
    "            iteration.log_dataset(dataset_id=dataset_id)"
   ]
  },
  {
   "cell_type": "code",
   "execution_count": 8,
   "id": "33372f4e",
   "metadata": {
    "ExecuteTime": {
     "end_time": "2023-06-14T16:37:34.779113Z",
     "start_time": "2023-06-14T16:37:34.592816Z"
    }
   },
   "outputs": [],
   "source": [
    "from sklearn.ensemble import RandomForestClassifier\n",
    "from sklearn.metrics import accuracy_score, precision_score, recall_score, f1_score\n",
    "\n",
    "parameters = {'n_estimators': 100, 'max_depth': 5}\n",
    "model = RandomForestClassifier(**parameters)\n",
    "model.fit(X_train, y_train)\n",
    "prediction = model.predict(X_test)\n",
    "metrics = {\n",
    "    'accuracy': round(accuracy_score(y_test, prediction), 3),\n",
    "    'precision': round(precision_score(y_test, prediction, average='macro'), 3),\n",
    "    'recall': round(recall_score(y_test, prediction, average='macro'), 3),\n",
    "    'f1': round(f1_score(y_test, prediction, average='macro'), 3)\n",
    "}\n",
    "\n",
    "log_single_iteration(iteration_name='RF with dataset v2',\n",
    "                     model_name='Random Forest',\n",
    "                     model_params=parameters,\n",
    "                     metrics=metrics,\n",
    "                     dataset_id=dataset_v2['_id'])"
   ]
  },
  {
   "cell_type": "code",
   "execution_count": 9,
   "id": "6a25d3cd",
   "metadata": {
    "ExecuteTime": {
     "end_time": "2023-06-14T16:37:35.534954Z",
     "start_time": "2023-06-14T16:37:35.042655Z"
    }
   },
   "outputs": [],
   "source": [
    "parameters = {'n_estimators': 500, 'max_depth': 10}\n",
    "model = RandomForestClassifier(**parameters)\n",
    "model.fit(X_train, y_train)\n",
    "prediction = model.predict(X_test)\n",
    "metrics = {\n",
    "    'accuracy': round(accuracy_score(y_test, prediction), 3),\n",
    "    'precision': round(precision_score(y_test, prediction, average='macro'), 3),\n",
    "    'recall': round(recall_score(y_test, prediction, average='macro'), 3),\n",
    "    'f1': round(f1_score(y_test, prediction, average='macro'), 3)\n",
    "}\n",
    "\n",
    "log_single_iteration(iteration_name='RF with dataset v3',\n",
    "                     model_name='Random Forest',\n",
    "                     model_params=parameters,\n",
    "                     metrics=metrics,\n",
    "                     dataset_id=dataset_v3['_id'])"
   ]
  },
  {
   "cell_type": "code",
   "execution_count": null,
   "id": "f1af7d11",
   "metadata": {},
   "outputs": [],
   "source": []
  }
 ],
 "metadata": {
  "kernelspec": {
   "display_name": "Python 3 (ipykernel)",
   "language": "python",
   "name": "python3"
  },
  "language_info": {
   "codemirror_mode": {
    "name": "ipython",
    "version": 3
   },
   "file_extension": ".py",
   "mimetype": "text/x-python",
   "name": "python",
   "nbconvert_exporter": "python",
   "pygments_lexer": "ipython3",
   "version": "3.9.16"
  },
  "toc": {
   "base_numbering": 1,
   "nav_menu": {},
   "number_sections": false,
   "sideBar": true,
   "skip_h1_title": false,
   "title_cell": "Table of Contents",
   "title_sidebar": "Contents",
   "toc_cell": false,
   "toc_position": {},
   "toc_section_display": true,
   "toc_window_display": true
  }
 },
 "nbformat": 4,
 "nbformat_minor": 5
}
