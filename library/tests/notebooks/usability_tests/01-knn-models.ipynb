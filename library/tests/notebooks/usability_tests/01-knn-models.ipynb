{
 "cells": [
  {
   "cell_type": "markdown",
   "id": "ca79d2e5",
   "metadata": {},
   "source": [
    "# 01-knn-models"
   ]
  },
  {
   "cell_type": "code",
   "execution_count": 1,
   "id": "e6f0c780",
   "metadata": {
    "ExecuteTime": {
     "end_time": "2023-06-14T16:35:12.135120Z",
     "start_time": "2023-06-14T16:35:07.982003Z"
    }
   },
   "outputs": [
    {
     "name": "stdout",
     "output_type": "stream",
     "text": [
      "Requirement already satisfied: mlops-ai in c:\\users\\jedryb\\anaconda3\\lib\\site-packages (1.1.0)\n",
      "Requirement already satisfied: requests in c:\\users\\jedryb\\anaconda3\\lib\\site-packages (from mlops-ai) (2.28.2)\n",
      "Requirement already satisfied: idna<4,>=2.5 in c:\\users\\jedryb\\anaconda3\\lib\\site-packages (from requests->mlops-ai) (3.4)\n",
      "Requirement already satisfied: certifi>=2017.4.17 in c:\\users\\jedryb\\anaconda3\\lib\\site-packages (from requests->mlops-ai) (2022.12.7)\n",
      "Requirement already satisfied: urllib3<1.27,>=1.21.1 in c:\\users\\jedryb\\anaconda3\\lib\\site-packages (from requests->mlops-ai) (1.26.14)\n",
      "Requirement already satisfied: charset-normalizer<4,>=2 in c:\\users\\jedryb\\anaconda3\\lib\\site-packages (from requests->mlops-ai) (2.1.1)\n"
     ]
    }
   ],
   "source": [
    "!pip install mlops-ai"
   ]
  },
  {
   "cell_type": "code",
   "execution_count": 2,
   "id": "68677b74",
   "metadata": {
    "ExecuteTime": {
     "end_time": "2023-06-14T16:35:20.140721Z",
     "start_time": "2023-06-14T16:35:16.419090Z"
    }
   },
   "outputs": [
    {
     "name": "stdout",
     "output_type": "stream",
     "text": [
      "Name: mlops-ai\n",
      "Version: 1.1.0\n",
      "Summary: Mlops-ai library for managing machine learning projects, experiments, iterations and datasets.\n",
      "Home-page: \n",
      "Author: Kacper Pękalski, Kajetan Szal, Jędrzej Rybczyński\n",
      "Author-email: kac.pekalski1@gmail.com\n",
      "License: Apache License 2.0\n",
      "Location: c:\\users\\jedryb\\anaconda3\\lib\\site-packages\n",
      "Requires: requests\n",
      "Required-by: \n"
     ]
    }
   ],
   "source": [
    "!pip show mlops-ai"
   ]
  },
  {
   "cell_type": "markdown",
   "id": "76c7245c",
   "metadata": {},
   "source": [
    "## Setting active project & experiment"
   ]
  },
  {
   "cell_type": "code",
   "execution_count": 4,
   "id": "a7ac96ad",
   "metadata": {
    "ExecuteTime": {
     "end_time": "2023-06-14T16:35:32.782042Z",
     "start_time": "2023-06-14T16:35:32.754230Z"
    }
   },
   "outputs": [
    {
     "data": {
      "text/plain": [
       "'Active project set to: 6489ec527f8983d10183cc1b'"
      ]
     },
     "execution_count": 4,
     "metadata": {},
     "output_type": "execute_result"
    }
   ],
   "source": [
    "from mlops.tracking import get_project_by_name, set_active_project\n",
    "\n",
    "project = get_project_by_name('Iris classification')\n",
    "set_active_project(project['_id'])"
   ]
  },
  {
   "cell_type": "code",
   "execution_count": 6,
   "id": "bdf0fa0d",
   "metadata": {
    "ExecuteTime": {
     "end_time": "2023-06-14T16:36:06.691229Z",
     "start_time": "2023-06-14T16:36:06.667534Z"
    }
   },
   "outputs": [
    {
     "data": {
      "text/plain": [
       "'Active experiment set to: 6489ec5b7f8983d10183cc1c'"
      ]
     },
     "execution_count": 6,
     "metadata": {},
     "output_type": "execute_result"
    }
   ],
   "source": [
    "from mlops.tracking import get_experiment_by_name, set_active_experiment\n",
    "\n",
    "experiment = get_experiment_by_name('KNN models')\n",
    "set_active_experiment(experiment_id=experiment['id'])"
   ]
  },
  {
   "cell_type": "markdown",
   "id": "483057c9",
   "metadata": {
    "ExecuteTime": {
     "end_time": "2023-06-13T17:47:52.832268Z",
     "start_time": "2023-06-13T17:47:52.814977Z"
    }
   },
   "source": [
    "## Creating KNN iterations"
   ]
  },
  {
   "cell_type": "code",
   "execution_count": 7,
   "id": "cc9740b8",
   "metadata": {
    "ExecuteTime": {
     "end_time": "2023-06-14T16:36:08.815509Z",
     "start_time": "2023-06-14T16:36:07.712467Z"
    }
   },
   "outputs": [],
   "source": [
    "import pandas as pd \n",
    "from sklearn.model_selection import train_test_split\n",
    "\n",
    "url = 'https://raw.githubusercontent.com/TripathiAshutosh/dataset/main/iris.csv'\n",
    "df = pd.read_csv(filepath_or_buffer=url, sep=',')\n",
    "y = df['class']\n",
    "X = df.drop(columns=['class'])\n",
    "X_train, X_test, y_train, y_test = train_test_split(X, y, test_size=0.5, stratify = y, random_state=42)"
   ]
  },
  {
   "cell_type": "code",
   "execution_count": 8,
   "id": "3cd39834",
   "metadata": {
    "ExecuteTime": {
     "end_time": "2023-06-14T16:36:08.847509Z",
     "start_time": "2023-06-14T16:36:08.836510Z"
    }
   },
   "outputs": [],
   "source": [
    "from mlops.tracking import start_iteration\n",
    "\n",
    "\n",
    "def log_single_iteration(iteration_name: str,\n",
    "                         model_params: dict = None,\n",
    "                         metrics: dict = None,\n",
    "                         model_path: str = None,\n",
    "                         dataset_id: str = None,\n",
    "                         interactive_charts: list = None):\n",
    "    \"\"\"\n",
    "    Util function for creating single mlops iteration.\n",
    "    \n",
    "    Args:\n",
    "        iteration_name (str): name of the whole iteration\n",
    "        model_name (str): name of the logged model\n",
    "        model_params (dict): parameters of model\n",
    "        metrics (dict): model metrics\n",
    "        model_path (str): path to saved model file\n",
    "        dataset_id (str): id to dataset from datasets tab\n",
    "    \"\"\"\n",
    "    with start_iteration(iteration_name=iteration_name) as iteration:\n",
    "        if model_params:\n",
    "            iteration.log_parameters(parameters=model_params)\n",
    "            \n",
    "        if metrics:\n",
    "            iteration.log_metrics(metrics=metrics)\n",
    "            \n",
    "        if model_path:\n",
    "            iteration.log_path_to_model(path_to_model=model_path)\n",
    "        \n",
    "        if dataset_id:\n",
    "            iteration.log_dataset(dataset_id=dataset_id)"
   ]
  },
  {
   "cell_type": "markdown",
   "id": "914d539c",
   "metadata": {},
   "source": [
    "### 1st iteration"
   ]
  },
  {
   "cell_type": "code",
   "execution_count": 9,
   "id": "28fec2bc",
   "metadata": {
    "ExecuteTime": {
     "end_time": "2023-06-14T16:36:10.225854Z",
     "start_time": "2023-06-14T16:36:10.154838Z"
    }
   },
   "outputs": [],
   "source": [
    "from sklearn.neighbors import KNeighborsClassifier\n",
    "from sklearn.metrics import accuracy_score, precision_score, recall_score, f1_score\n",
    "\n",
    "\n",
    "parameters = {'n_neighbors': 5, 'metric': 'minkowski', 'algorithm': 'auto'}\n",
    "model = KNeighborsClassifier(**parameters)\n",
    "model.fit(X_train, y_train)\n",
    "prediction = model.predict(X_test)\n",
    "metrics = {\n",
    "    'accuracy': round(accuracy_score(y_test, prediction), 3),\n",
    "    'precision': round(precision_score(y_test, prediction, average='macro'), 3),\n",
    "    'recall': round(recall_score(y_test, prediction, average='macro'), 3),\n",
    "    'f1': round(f1_score(y_test, prediction, average='macro'), 3)\n",
    "}\n",
    "\n",
    "log_single_iteration(iteration_name='KNN v1',\n",
    "                     model_name='KNN',\n",
    "                     model_params=parameters,\n",
    "                     metrics=metrics)"
   ]
  },
  {
   "cell_type": "markdown",
   "id": "c1134b16",
   "metadata": {},
   "source": [
    "### 2nd iteration"
   ]
  },
  {
   "cell_type": "code",
   "execution_count": 10,
   "id": "6333f5f5",
   "metadata": {
    "ExecuteTime": {
     "end_time": "2023-06-14T16:36:10.954243Z",
     "start_time": "2023-06-14T16:36:10.926649Z"
    }
   },
   "outputs": [],
   "source": [
    "import pickle\n",
    "\n",
    "parameters = {'n_neighbors': 15, 'metric': 'cosine', 'algorithm': 'auto'}\n",
    "model = KNeighborsClassifier(**parameters)\n",
    "model.fit(X_train, y_train)\n",
    "prediction = model.predict(X_test)\n",
    "metrics = {\n",
    "    'accuracy': round(accuracy_score(y_test, prediction), 3),\n",
    "    'precision': round(precision_score(y_test, prediction, average='macro'), 3),\n",
    "    'recall': round(recall_score(y_test, prediction, average='macro'), 3),\n",
    "    'f1': round(f1_score(y_test, prediction, average='macro'), 3)\n",
    "}\n",
    "with open('knn_v2.pkl', 'wb') as f:\n",
    "    pickle.dump(model, f)\n",
    "\n",
    "log_single_iteration(iteration_name='KNN v2',\n",
    "                     model_name='KNN',\n",
    "                     model_params=parameters,\n",
    "                     metrics=metrics,\n",
    "                     model_path='./knn_v2.pkl')"
   ]
  },
  {
   "cell_type": "markdown",
   "id": "c88cdc7f",
   "metadata": {},
   "source": [
    "### 3rd iteration"
   ]
  },
  {
   "cell_type": "code",
   "execution_count": 11,
   "id": "25c67c4b",
   "metadata": {
    "ExecuteTime": {
     "end_time": "2023-06-14T16:36:11.614752Z",
     "start_time": "2023-06-14T16:36:11.584119Z"
    }
   },
   "outputs": [],
   "source": [
    "parameters = {'n_neighbors': 45, 'metric': 'manhattan', 'algorithm': 'ball_tree'}\n",
    "model = KNeighborsClassifier(**parameters)\n",
    "model.fit(X_train, y_train)\n",
    "prediction = model.predict(X_test)\n",
    "metrics = {\n",
    "    'accuracy': round(accuracy_score(y_test, prediction), 3),\n",
    "    'precision': round(precision_score(y_test, prediction, average='macro'), 3),\n",
    "    'recall': round(recall_score(y_test, prediction, average='macro'), 3),\n",
    "    'f1': round(f1_score(y_test, prediction, average='macro'), 3)\n",
    "}\n",
    "\n",
    "log_single_iteration(iteration_name='KNN v3',\n",
    "                     model_name='KNN',\n",
    "                     model_params=parameters,\n",
    "                     metrics=metrics)"
   ]
  }
 ],
 "metadata": {
  "kernelspec": {
   "display_name": "Python 3 (ipykernel)",
   "language": "python",
   "name": "python3"
  },
  "language_info": {
   "codemirror_mode": {
    "name": "ipython",
    "version": 3
   },
   "file_extension": ".py",
   "mimetype": "text/x-python",
   "name": "python",
   "nbconvert_exporter": "python",
   "pygments_lexer": "ipython3",
   "version": "3.9.16"
  },
  "toc": {
   "base_numbering": 1,
   "nav_menu": {},
   "number_sections": false,
   "sideBar": true,
   "skip_h1_title": false,
   "title_cell": "Table of Contents",
   "title_sidebar": "Contents",
   "toc_cell": false,
   "toc_position": {
    "height": "calc(100% - 180px)",
    "left": "10px",
    "top": "150px",
    "width": "303.825px"
   },
   "toc_section_display": true,
   "toc_window_display": true
  }
 },
 "nbformat": 4,
 "nbformat_minor": 5
}
