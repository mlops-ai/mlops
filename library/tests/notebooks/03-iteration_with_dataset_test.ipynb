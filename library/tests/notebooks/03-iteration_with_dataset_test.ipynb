{
 "cells": [
  {
   "cell_type": "code",
   "execution_count": 1,
   "id": "dd448460",
   "metadata": {
    "ExecuteTime": {
     "end_time": "2023-06-03T08:22:41.124161Z",
     "start_time": "2023-06-03T08:22:41.033642Z"
    }
   },
   "outputs": [],
   "source": [
    "from mlops.tracking import set_active_experiment, set_active_project, get_project_by_name, get_experiment_by_name\n",
    "from mlops.tracking import start_iteration\n",
    "from mlops.tracking import create_dataset"
   ]
  },
  {
   "cell_type": "markdown",
   "id": "90e30ea4",
   "metadata": {},
   "source": [
    "## Get project & experiment and set as active"
   ]
  },
  {
   "cell_type": "code",
   "execution_count": 18,
   "id": "ac7f583d",
   "metadata": {
    "ExecuteTime": {
     "end_time": "2023-05-25T18:54:55.907654Z",
     "start_time": "2023-05-25T18:54:55.853573Z"
    }
   },
   "outputs": [
    {
     "data": {
      "text/plain": [
       "'Active project set to: 646faeed9b1d7319bb1e2cfc'"
      ]
     },
     "execution_count": 18,
     "metadata": {},
     "output_type": "execute_result"
    }
   ],
   "source": [
    "project = get_project_by_name('My first library project')\n",
    "set_active_project(project['_id'])"
   ]
  },
  {
   "cell_type": "code",
   "execution_count": 19,
   "id": "02058e19",
   "metadata": {
    "ExecuteTime": {
     "end_time": "2023-05-25T18:54:56.470816Z",
     "start_time": "2023-05-25T18:54:56.409729Z"
    }
   },
   "outputs": [
    {
     "data": {
      "text/plain": [
       "'Active experiment set to: 646faeee9b1d7319bb1e2cfd'"
      ]
     },
     "execution_count": 19,
     "metadata": {},
     "output_type": "execute_result"
    }
   ],
   "source": [
    "experiment = get_experiment_by_name('Experiment v1')\n",
    "set_active_experiment(experiment['id'])"
   ]
  },
  {
   "cell_type": "markdown",
   "id": "6f369a5f",
   "metadata": {},
   "source": [
    "## Log iteration with dataset"
   ]
  },
  {
   "cell_type": "code",
   "execution_count": 20,
   "id": "4cbf0661",
   "metadata": {
    "ExecuteTime": {
     "end_time": "2023-05-25T18:54:58.658723Z",
     "start_time": "2023-05-25T18:54:58.012475Z"
    }
   },
   "outputs": [],
   "source": [
    "dataset = create_dataset(\n",
    "    dataset_name=\"Library dataset\",\n",
    "    path_to_dataset=\"https://github.com/kajetsz/mlops\",\n",
    "    dataset_description=\"This is test library dataset\",\n",
    "    tags=\"test,regression\",\n",
    "    version=\"0.1\"\n",
    ")"
   ]
  },
  {
   "cell_type": "code",
   "execution_count": 21,
   "id": "9a3cb4d6",
   "metadata": {
    "ExecuteTime": {
     "end_time": "2023-05-25T18:54:59.251664Z",
     "start_time": "2023-05-25T18:54:59.193444Z"
    }
   },
   "outputs": [],
   "source": [
    "with start_iteration(\"Library iteration with dataset\") as iteration:\n",
    "    iteration.log_parameter(\"n_estimators\", 150)\n",
    "    iteration.log_metric(\"RMSE\", 0.22)\n",
    "    iteration.log_metric(\"MAE\", 0.325)\n",
    "    iteration.log_dataset(dataset['_id'])"
   ]
  },
  {
   "cell_type": "markdown",
   "id": "458a6079",
   "metadata": {},
   "source": [
    "## Another example iterations"
   ]
  },
  {
   "cell_type": "code",
   "execution_count": 15,
   "id": "9050437d",
   "metadata": {
    "ExecuteTime": {
     "end_time": "2023-05-25T18:45:57.486903Z",
     "start_time": "2023-05-25T18:45:57.415031Z"
    }
   },
   "outputs": [],
   "source": [
    "with start_iteration(\"Iteration with dataset\",\n",
    "                     project_id='64562b1a088a698a1416f19c',\n",
    "                     experiment_id='645632a86d9e32527e57ce1a') as iteration:\n",
    "    iteration.log_parameter(\"batch_size\", 128)\n",
    "    iteration.log_metric(\"accuracy\", 0.55)\n",
    "    iteration.log_metric(\"F1\", 0.45)\n",
    "    iteration.log_dataset('646fa15599f0b72a178c9bdb')"
   ]
  },
  {
   "cell_type": "code",
   "execution_count": 16,
   "id": "b7b7c301",
   "metadata": {
    "ExecuteTime": {
     "end_time": "2023-05-25T18:51:40.079308Z",
     "start_time": "2023-05-25T18:51:40.013659Z"
    }
   },
   "outputs": [],
   "source": [
    "with start_iteration(\"Iteration with dataset 2\",\n",
    "                     project_id='64562b1a088a698a1416f19c',\n",
    "                     experiment_id='645632a86d9e32527e57ce1a') as iteration:\n",
    "    iteration.log_parameter(\"batch_size\", 128)\n",
    "    iteration.log_metric(\"accuracy\", 0.65)\n",
    "    iteration.log_metric(\"F1\", 0.602)\n",
    "    iteration.log_dataset('646fae0bed04ae7ed85360b4')"
   ]
  },
  {
   "cell_type": "code",
   "execution_count": null,
   "id": "a03d49ce",
   "metadata": {},
   "outputs": [],
   "source": []
  }
 ],
 "metadata": {
  "kernelspec": {
   "display_name": "Python 3 (ipykernel)",
   "language": "python",
   "name": "python3"
  },
  "language_info": {
   "codemirror_mode": {
    "name": "ipython",
    "version": 3
   },
   "file_extension": ".py",
   "mimetype": "text/x-python",
   "name": "python",
   "nbconvert_exporter": "python",
   "pygments_lexer": "ipython3",
   "version": "3.9.16"
  },
  "toc": {
   "base_numbering": 1,
   "nav_menu": {},
   "number_sections": false,
   "sideBar": true,
   "skip_h1_title": false,
   "title_cell": "Table of Contents",
   "title_sidebar": "Contents",
   "toc_cell": false,
   "toc_position": {},
   "toc_section_display": true,
   "toc_window_display": true
  }
 },
 "nbformat": 4,
 "nbformat_minor": 5
}
