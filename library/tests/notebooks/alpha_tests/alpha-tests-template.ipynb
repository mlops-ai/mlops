{
 "cells": [
  {
   "cell_type": "markdown",
   "id": "5485fc26",
   "metadata": {},
   "source": [
    "# Scenariusz alpha testów aplikacji [MLOps](https://github.com/mlops-ai/mlops)\n",
    "\n",
    "**Witaj użytkowniku!** Na wstępie serdecznie dziękujemy za chęć udziału w alpha testach, a co za tym idzie wsparciu naszej aplikacji. <br><br>\n",
    "W poniższych komórkach znajdziesz polecenia, które należy wykonać. Po każdym poleceniu jest pusta komórka na (jeśli jest taka potrzeba) kod po stronie biblioteki oraz kolejna komórka na komentarz odnośnie tego jak oceniasz łatwość wykonania polecenia, ewentualne uwagi oraz wskazówki. :) "
   ]
  },
  {
   "cell_type": "markdown",
   "id": "372e13e1",
   "metadata": {},
   "source": [
    "## 0. Setup środowiska"
   ]
  },
  {
   "cell_type": "markdown",
   "id": "1d080544",
   "metadata": {},
   "source": [
    "### 0.1 Instalacja aplikacji oraz bilbioteki\n",
    "\n",
    "Aby uruchomić aplikację lokalnie, pobierz nasze repepozytorium z [GitHuba](https://github.com/mlops-ai/mlops), a następnie w celu instalacji postępuj zgodnie z krokami wymienionymi w sekcji [Installation & usage](https://github.com/mlops-ai/mlops#installation--usage).\n",
    "\n",
    "### <font color='red'>UWAGA! </font> \n",
    "Upewnij się, że włącznie z biblioteką zainstalowały Ci się wersje bibliotek `scikit-learn==1.3.0` oraz `torch==2.1.1`. Jest to kluczowe w kontekście monitorowanych modeli, aby zachować te same wersje między biliboteką, a serwerem aplikacji."
   ]
  },
  {
   "cell_type": "code",
   "execution_count": 1,
   "id": "6079e86e",
   "metadata": {
    "ExecuteTime": {
     "end_time": "2023-11-26T13:57:37.618866Z",
     "start_time": "2023-11-26T13:57:37.608584Z"
    }
   },
   "outputs": [],
   "source": [
    "# pip install mlops-ai"
   ]
  },
  {
   "cell_type": "code",
   "execution_count": 2,
   "id": "116566e2",
   "metadata": {
    "ExecuteTime": {
     "end_time": "2023-11-26T13:57:41.067792Z",
     "start_time": "2023-11-26T13:57:41.049195Z"
    }
   },
   "outputs": [],
   "source": [
    "# pip show mlops-ai"
   ]
  },
  {
   "cell_type": "markdown",
   "id": "ac378f72",
   "metadata": {},
   "source": [
    "### 0.2 Dokumentacja\n",
    "\n",
    "Szczegółową dokumentacje biblioteki aplikacji możesz znaleźć [**tutaj**](https://mlops-ai.github.io/mlops/library_docs/library_overview.html). Jeśli jednak tak jak my, nie jesteś fanem czytania szczegółowej dokumentacji, przygotowaliśmy także przykładowe notebooki prezentujące kluczowe funkcjonalności aplikacji, które możesz znaleźć wewnątrz folderu `library/tests/notebooks`"
   ]
  },
  {
   "cell_type": "markdown",
   "id": "d9a9adb7",
   "metadata": {},
   "source": [
    "## 1. Moduł tworzenia"
   ]
  },
  {
   "cell_type": "markdown",
   "id": "9e4f01ae",
   "metadata": {},
   "source": [
    "### 1.1 Tworzenie projektu po stronie biblioteki\n",
    "\n",
    "Utwórz pusty projekt wykorzystując odpowiednie funkcje po stronie biblioteki"
   ]
  },
  {
   "cell_type": "code",
   "execution_count": null,
   "id": "a4cf02b3",
   "metadata": {},
   "outputs": [],
   "source": []
  },
  {
   "cell_type": "markdown",
   "id": "f3354c8d",
   "metadata": {},
   "source": [
    "**Komentarz**: "
   ]
  },
  {
   "cell_type": "markdown",
   "id": "ca5c58fd",
   "metadata": {},
   "source": [
    "### 1.2 Usuwanie oraz tworzenie projektu po stronie aplikacji webowej\n",
    "\n",
    "Usuń wcześniej utworzony projekt po stronie aplikacji webowej oraz utwórz analogiczny projekt tym razem z aplikacji webowej."
   ]
  },
  {
   "cell_type": "markdown",
   "id": "a84ffd99",
   "metadata": {},
   "source": [
    "**Komentarz:**"
   ]
  },
  {
   "cell_type": "markdown",
   "id": "d9ca3be5",
   "metadata": {},
   "source": [
    "### 1.3 Tworzenie eksperymentu\n",
    "\n",
    "Po stronie biblioteki utwórzy przykładowy eksperyment o nazwie *Initial modeling*."
   ]
  },
  {
   "cell_type": "code",
   "execution_count": null,
   "id": "468e5419",
   "metadata": {},
   "outputs": [],
   "source": []
  },
  {
   "cell_type": "markdown",
   "id": "25017783",
   "metadata": {},
   "source": [
    "**Komentarz:**"
   ]
  },
  {
   "cell_type": "markdown",
   "id": "0533b8ef",
   "metadata": {},
   "source": [
    "### 1.4 Ustawienie projektu oraz eksperymentu jako aktywne\n",
    "\n",
    "Ustaw uprzednio utworzony projekt oraz eksperyment jako aktywny projekt/aktywny eksperyment. <br> Dzięki temu, za każdym razem kiedy będziesz tworzył iteracje nie będziesz musiał się do nich odwoływać.\n",
    "\n",
    "**Hint:** `set_active_project()`, `set_active_experiment()`"
   ]
  },
  {
   "cell_type": "code",
   "execution_count": null,
   "id": "024de691",
   "metadata": {},
   "outputs": [],
   "source": []
  },
  {
   "cell_type": "markdown",
   "id": "90913ac9",
   "metadata": {},
   "source": [
    "**Komentarz:**"
   ]
  },
  {
   "cell_type": "markdown",
   "id": "bc941a45",
   "metadata": {},
   "source": [
    "### 1.5 Utworzenie datasetu\n",
    "\n",
    "Będziesz pracował na dobrze znanym zbiorze danych [Iris dataset]('https://raw.githubusercontent.com/TripathiAshutosh/dataset/main/iris.csv'). Utwórz dataset po stronie bilbioteki, podaj parametry takie jak link, tagi czy wersja. Alternatywnie, możesz go również stworzyć po stronie aplikacji webowej i zaciągnąć do biblioteki za pomocą odpowiedniej funkcji."
   ]
  },
  {
   "cell_type": "code",
   "execution_count": null,
   "id": "9122e397",
   "metadata": {},
   "outputs": [],
   "source": []
  },
  {
   "cell_type": "markdown",
   "id": "38214258",
   "metadata": {},
   "source": [
    "**Komentarz:**"
   ]
  },
  {
   "cell_type": "markdown",
   "id": "6564b796",
   "metadata": {},
   "source": [
    "### 1.5 Utworzenie pierwszej iteracji\n",
    "\n",
    "Przygotuj dane treningowe do utworzenia pierwszej iteracji (pomocny może się okazać poniższy kod).\n",
    "```python\n",
    "import pandas as pd \n",
    "from sklearn.model_selection import train_test_split\n",
    "from sklearn.preprocessing import LabelEncoder\n",
    "\n",
    "url = 'https://raw.githubusercontent.com/TripathiAshutosh/dataset/main/iris.csv'\n",
    "df = pd.read_csv(filepath_or_buffer=url, sep=',')\n",
    "y = LabelEncoder().fit_transform(df['class'])\n",
    "X = df.drop(columns=['class'])\n",
    "X_train, X_test, y_train, y_test = train_test_split(X, y, test_size=0.5, stratify = y, random_state=42)\n",
    "```\n",
    "\n",
    "Następnie, wytrenuj model [LogisticRegression](http://scikit-learn.org/stable/modules/generated/sklearn.linear_model.LogisticRegression.html) z biblioteki scikit-learn. Zaloguj swoją pierwszą iteracje, logując informacje takie jak: \n",
    "- nazwa iteracji\n",
    "- parametry \n",
    "- metryki na zbiorze testowym (accuracy, precision, recall, f1)\n",
    "- odnośnik do datasetu"
   ]
  },
  {
   "cell_type": "code",
   "execution_count": null,
   "id": "ba577150",
   "metadata": {},
   "outputs": [],
   "source": []
  },
  {
   "cell_type": "markdown",
   "id": "0a7b90f4",
   "metadata": {},
   "source": [
    "**Komentarz:**"
   ]
  },
  {
   "cell_type": "markdown",
   "id": "f1b9e42d",
   "metadata": {},
   "source": [
    "### 1.6 Iteracje modeli KNN\n",
    "\n",
    "Utwórz nowy eksperyment o nazwie *KNN models*. Wytrenuj 3-4 modele [KNN](http://scikit-learn.org/stable/modules/generated/sklearn.neighbors.KNeighborsClassifier.html) każdy z nieco różnymi parametrami. Porównaj wyniki iteracji/eksperymentów zaznaczając je i klikając przycisk compare po stronie aplikacji webowej.\n",
    "\n",
    "Dodatkowo, najlepszy z modeli zapisz lokalnie z wykorzystaniem biblioteki pickle oraz podczas logowania iteracji zaloguj jego ścieżkę (**ważne aby była to ścieżka absolutna, nie względna**)."
   ]
  },
  {
   "cell_type": "code",
   "execution_count": null,
   "id": "4b65a528",
   "metadata": {},
   "outputs": [],
   "source": []
  },
  {
   "cell_type": "markdown",
   "id": "3e3845e9",
   "metadata": {},
   "source": [
    "**Komentarz:**"
   ]
  },
  {
   "cell_type": "markdown",
   "id": "6efe443d",
   "metadata": {},
   "source": [
    "### 1.7 Logowanie wykresu Pythonowego\n",
    "\n",
    "Utwórz osobny eksperyment o nazwie *Image charts*.\n",
    "Następnie, utwórz dwa dowolne wykresy wykorzystując bibliotekę seaborn lub matplotlib (może być to np. wykres dot. zależności między cechami / predykcji). Następnie zapisz wykresy na dysku do formatu .png / .jpg i zaloguj je podczas dowolnej iteracji z wykorzysteniem, któregoś z wcześniej utworzonych modeli."
   ]
  },
  {
   "cell_type": "code",
   "execution_count": null,
   "id": "ed19da81",
   "metadata": {},
   "outputs": [],
   "source": []
  },
  {
   "cell_type": "markdown",
   "id": "8c14c86a",
   "metadata": {},
   "source": [
    "**Komentarz:**"
   ]
  },
  {
   "cell_type": "markdown",
   "id": "43beddc1",
   "metadata": {},
   "source": [
    "### 1.8 Logowanie interaktywnych wykresów z danych (quite hard one, sorry://)"
   ]
  },
  {
   "cell_type": "markdown",
   "id": "8c6466bc",
   "metadata": {
    "ExecuteTime": {
     "end_time": "2023-11-26T15:16:31.693515Z",
     "start_time": "2023-11-26T15:16:31.662904Z"
    }
   },
   "source": [
    "Wytrenuj prostą sieć neuronową z wykorzystaniem bilbioteki [tensorflow](https://keras.io/) lub [pyTorch](https://pytorch.org/). Następnie zaloguj jak zmieniał się błąd modelu podczas końca każdej z epok na zbiorze treningowym / walidacyjnym. Dodaj 2-3 iteracje dla trenowanych sieci z różnymi hiperparametrami (tak żeby wyniki metryk na zbiorze testowym się różniły). **Podczas logowania iteracji zaloguj informacje o wcześniej zalogowanych błędach z epok z wykorzystaniem funkcji `log_chart`**.\n",
    "\n",
    "Po pomyślnym dodaniu iteracji, wyświetl wykresy na stronie webowej oraz porównaj iteracje między sobą za pomocą opcji compare.\n",
    "\n",
    "**Hint:**\n",
    "```python\n",
    "iteration.log_chart(\n",
    "        chart_name=..., chart_type=...,\n",
    "        x_data=...,\n",
    "        y_data=...,\n",
    "        y_data_names=...,\n",
    "        x_label=..., y_label=..., \n",
    "        chart_title=...,\n",
    "        comparable=True)\n",
    "```\n",
    "\n",
    "**Hint 2:**\n",
    "W razie dalszych problemów odsyłam do notebooka `library/tests/notebooks/mlops-ai-library-showcase.ipynb`, sekcja **Creating iterations with Interactive Charts**."
   ]
  },
  {
   "cell_type": "code",
   "execution_count": null,
   "id": "1a0f6582",
   "metadata": {},
   "outputs": [],
   "source": []
  },
  {
   "cell_type": "markdown",
   "id": "5e91856f",
   "metadata": {},
   "source": [
    "**Komentarz:**"
   ]
  },
  {
   "cell_type": "markdown",
   "id": "11ef25ba",
   "metadata": {},
   "source": [
    "## 2. Moduł monitorowania"
   ]
  },
  {
   "cell_type": "markdown",
   "id": "27edfa45",
   "metadata": {},
   "source": [
    "### 2.1 Dodanie monitorowanego modelu\n",
    "\n",
    "Wybierz dowolną iteracje z modeli utworzonych z bilblioteki scikit-learn na zbiorze danych Iris, który ma poprawną ścieżkę do pickla na dysku. Następnie, wystaw iteracje na monitorowany model. (wszystko po stronie aplikacji webowej)"
   ]
  },
  {
   "cell_type": "markdown",
   "id": "ac71d16f",
   "metadata": {},
   "source": [
    "**Komentarz:**"
   ]
  },
  {
   "cell_type": "markdown",
   "id": "c1944d04",
   "metadata": {},
   "source": [
    "### 2.2 Predykcje dla monitorowanego modelu\n",
    "\n",
    "Wyślij predykcje na wystawiony monitorowany model (np. cały DataFrame X_test ze zbioru Iris) lub pojedyncze, samemu utworzone wiersze."
   ]
  },
  {
   "cell_type": "code",
   "execution_count": null,
   "id": "b7ab9aaa",
   "metadata": {},
   "outputs": [],
   "source": []
  },
  {
   "cell_type": "markdown",
   "id": "9ea8edee",
   "metadata": {},
   "source": [
    "**Komentarz:**"
   ]
  },
  {
   "cell_type": "markdown",
   "id": "e1d27bfb",
   "metadata": {},
   "source": [
    "### 2.3 Niepoprawne predykcje dla monitorowanego modelu\n",
    "\n",
    "**(Ćwiczenie kreatywne)** Postaraj się popsuć predykcje dla monitorowanego modelu wysyłając zapytania o predykcje w niepoprawnym formacie, z niepoprawnymi typami danych etc. Zbadaj czy biblioteka zwraca poprawne komunikaty dot. błędów."
   ]
  },
  {
   "cell_type": "code",
   "execution_count": null,
   "id": "78f12d8c",
   "metadata": {},
   "outputs": [],
   "source": []
  },
  {
   "cell_type": "markdown",
   "id": "19ba5aa0",
   "metadata": {},
   "source": [
    "**Komentarz:**"
   ]
  },
  {
   "cell_type": "markdown",
   "id": "2ec2011b",
   "metadata": {},
   "source": [
    "### (Opcjonalnie) 2.4 Dodanie monitorowanego modelu spoza biliboteki scikit-learn"
   ]
  },
  {
   "cell_type": "markdown",
   "id": "6607298f",
   "metadata": {},
   "source": [
    "Jeśli poprawnie wykonałeś zadanie 1.8, możesz wystawić jedną z wytrenowanych tam sieci neuronowych. Chodzi o to żeby model był spoza API scikit-learnowego i nie miał atrybutu `.predict()`. Następnie, skorzystaj z przykładowego wrappera, który znajduje się wew. `server/app/models/monitored_model_wrapper.py`, nadpisz go swoim kodem oraz zapisz pickla z tej klasy jako ścieżka do modelu iteracji. Dzięki temu wrapperowi twój customowy model będzie miał atrybut `.predict()` będzie mógł być poprawnie wystawiony do monitorowania."
   ]
  },
  {
   "cell_type": "code",
   "execution_count": null,
   "id": "f915e712",
   "metadata": {},
   "outputs": [],
   "source": []
  },
  {
   "cell_type": "markdown",
   "id": "023b5542",
   "metadata": {},
   "source": [
    "**Komentarz:**"
   ]
  },
  {
   "cell_type": "markdown",
   "id": "378b818b",
   "metadata": {},
   "source": [
    "## 3. Alerty mailowe"
   ]
  },
  {
   "cell_type": "markdown",
   "id": "4a09562b",
   "metadata": {},
   "source": [
    "### (Opcjonalnie) 3.1 Załóż konto na platformie [Mailgun](https://www.mailgun.com/).\n",
    "\n",
    "W celu poprawnego skonfigurowania modułu dot. wysyłania altertów mailowych założ konto na platformie [Mailgun](https://www.mailgun.com/) w celu poprawnego skonfigurowania API keya oraz nazwy domeny (patrz `library/tests/notebooks/06-email-alerts.ipynb`). Jeśli jednak nie chcesz tworzyć swojego konta, skontaktuj się z nami i podaj nam swój adres e-mail, a my podamy Ci nasz klucz API i nazwę domeny. :)"
   ]
  },
  {
   "cell_type": "code",
   "execution_count": null,
   "id": "7d207fde",
   "metadata": {},
   "outputs": [],
   "source": []
  },
  {
   "cell_type": "markdown",
   "id": "7eb89cd6",
   "metadata": {},
   "source": [
    "**Komentarz:**"
   ]
  },
  {
   "cell_type": "markdown",
   "id": "2ff8b198",
   "metadata": {},
   "source": [
    "### 3.2 Alert e-mail w przypadku dodania (nie)prawidłowej iteracji.\n",
    "\n",
    "Dodaj dowolną iteracje (możesz wykorzystać jakąś z utworzonych wcześniej), tym razem jednak ustaw opcję dot. wysyłania e-maili na `True`. Dodaj dwa typy iteracji, jedną prawidłową i drugą nieprawidłową, tak aby otrzymać oba komunikaty błędów."
   ]
  },
  {
   "cell_type": "code",
   "execution_count": null,
   "id": "fb99a542",
   "metadata": {},
   "outputs": [],
   "source": []
  },
  {
   "cell_type": "markdown",
   "id": "0ac9492e",
   "metadata": {},
   "source": [
    "**Komentarz:**"
   ]
  },
  {
   "cell_type": "markdown",
   "id": "984ddf58",
   "metadata": {},
   "source": [
    "### 3.3 Alert e-mail w przypadku (nie)poprawnych predykcji monitorowanego modelu.\n",
    "\n",
    "Podobnie jak wyżej, tym razem jednak alerty mailowe dot. wysyłania predykcji na monitorowany model. Dla poprawnej oraz niepoprawnej predykcji, tak aby otrzymać oba komunikaty błędów."
   ]
  },
  {
   "cell_type": "code",
   "execution_count": null,
   "id": "e751c517",
   "metadata": {},
   "outputs": [],
   "source": []
  },
  {
   "cell_type": "markdown",
   "id": "9adec7d5",
   "metadata": {},
   "source": [
    "**Komentarz:**"
   ]
  },
  {
   "cell_type": "markdown",
   "id": "191ed157",
   "metadata": {},
   "source": []
  }
 ],
 "metadata": {
  "kernelspec": {
   "display_name": "Python 3 (ipykernel)",
   "language": "python",
   "name": "python3"
  },
  "language_info": {
   "codemirror_mode": {
    "name": "ipython",
    "version": 3
   },
   "file_extension": ".py",
   "mimetype": "text/x-python",
   "name": "python",
   "nbconvert_exporter": "python",
   "pygments_lexer": "ipython3",
   "version": "3.9.16"
  },
  "toc": {
   "base_numbering": 1,
   "nav_menu": {},
   "number_sections": false,
   "sideBar": true,
   "skip_h1_title": false,
   "title_cell": "Table of Contents",
   "title_sidebar": "Contents",
   "toc_cell": false,
   "toc_position": {},
   "toc_section_display": true,
   "toc_window_display": true
  }
 },
 "nbformat": 4,
 "nbformat_minor": 5
}
